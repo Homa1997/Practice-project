{
 "cells": [
  {
   "cell_type": "code",
   "execution_count": 1,
   "id": "482558f5",
   "metadata": {},
   "outputs": [],
   "source": [
    "import pandas as pd\n",
    "import numpy as np\n"
   ]
  },
  {
   "cell_type": "code",
   "execution_count": 2,
   "id": "a5c1baaf",
   "metadata": {},
   "outputs": [],
   "source": [
    "Wine= pd.read_csv(\"winequality-red.csv\")"
   ]
  },
  {
   "cell_type": "code",
   "execution_count": 3,
   "id": "9556a9ba",
   "metadata": {},
   "outputs": [
    {
     "data": {
      "text/html": [
       "<div>\n",
       "<style scoped>\n",
       "    .dataframe tbody tr th:only-of-type {\n",
       "        vertical-align: middle;\n",
       "    }\n",
       "\n",
       "    .dataframe tbody tr th {\n",
       "        vertical-align: top;\n",
       "    }\n",
       "\n",
       "    .dataframe thead th {\n",
       "        text-align: right;\n",
       "    }\n",
       "</style>\n",
       "<table border=\"1\" class=\"dataframe\">\n",
       "  <thead>\n",
       "    <tr style=\"text-align: right;\">\n",
       "      <th></th>\n",
       "      <th>fixed acidity</th>\n",
       "      <th>volatile acidity</th>\n",
       "      <th>citric acid</th>\n",
       "      <th>residual sugar</th>\n",
       "      <th>chlorides</th>\n",
       "      <th>free sulfur dioxide</th>\n",
       "      <th>total sulfur dioxide</th>\n",
       "      <th>density</th>\n",
       "      <th>pH</th>\n",
       "      <th>sulphates</th>\n",
       "      <th>alcohol</th>\n",
       "      <th>quality</th>\n",
       "    </tr>\n",
       "  </thead>\n",
       "  <tbody>\n",
       "    <tr>\n",
       "      <th>0</th>\n",
       "      <td>7.4</td>\n",
       "      <td>0.700</td>\n",
       "      <td>0.00</td>\n",
       "      <td>1.9</td>\n",
       "      <td>0.076</td>\n",
       "      <td>11.0</td>\n",
       "      <td>34.0</td>\n",
       "      <td>0.99780</td>\n",
       "      <td>3.51</td>\n",
       "      <td>0.56</td>\n",
       "      <td>9.4</td>\n",
       "      <td>5</td>\n",
       "    </tr>\n",
       "    <tr>\n",
       "      <th>1</th>\n",
       "      <td>7.8</td>\n",
       "      <td>0.880</td>\n",
       "      <td>0.00</td>\n",
       "      <td>2.6</td>\n",
       "      <td>0.098</td>\n",
       "      <td>25.0</td>\n",
       "      <td>67.0</td>\n",
       "      <td>0.99680</td>\n",
       "      <td>3.20</td>\n",
       "      <td>0.68</td>\n",
       "      <td>9.8</td>\n",
       "      <td>5</td>\n",
       "    </tr>\n",
       "    <tr>\n",
       "      <th>2</th>\n",
       "      <td>7.8</td>\n",
       "      <td>0.760</td>\n",
       "      <td>0.04</td>\n",
       "      <td>2.3</td>\n",
       "      <td>0.092</td>\n",
       "      <td>15.0</td>\n",
       "      <td>54.0</td>\n",
       "      <td>0.99700</td>\n",
       "      <td>3.26</td>\n",
       "      <td>0.65</td>\n",
       "      <td>9.8</td>\n",
       "      <td>5</td>\n",
       "    </tr>\n",
       "    <tr>\n",
       "      <th>3</th>\n",
       "      <td>11.2</td>\n",
       "      <td>0.280</td>\n",
       "      <td>0.56</td>\n",
       "      <td>1.9</td>\n",
       "      <td>0.075</td>\n",
       "      <td>17.0</td>\n",
       "      <td>60.0</td>\n",
       "      <td>0.99800</td>\n",
       "      <td>3.16</td>\n",
       "      <td>0.58</td>\n",
       "      <td>9.8</td>\n",
       "      <td>6</td>\n",
       "    </tr>\n",
       "    <tr>\n",
       "      <th>4</th>\n",
       "      <td>7.4</td>\n",
       "      <td>0.700</td>\n",
       "      <td>0.00</td>\n",
       "      <td>1.9</td>\n",
       "      <td>0.076</td>\n",
       "      <td>11.0</td>\n",
       "      <td>34.0</td>\n",
       "      <td>0.99780</td>\n",
       "      <td>3.51</td>\n",
       "      <td>0.56</td>\n",
       "      <td>9.4</td>\n",
       "      <td>5</td>\n",
       "    </tr>\n",
       "    <tr>\n",
       "      <th>...</th>\n",
       "      <td>...</td>\n",
       "      <td>...</td>\n",
       "      <td>...</td>\n",
       "      <td>...</td>\n",
       "      <td>...</td>\n",
       "      <td>...</td>\n",
       "      <td>...</td>\n",
       "      <td>...</td>\n",
       "      <td>...</td>\n",
       "      <td>...</td>\n",
       "      <td>...</td>\n",
       "      <td>...</td>\n",
       "    </tr>\n",
       "    <tr>\n",
       "      <th>1594</th>\n",
       "      <td>6.2</td>\n",
       "      <td>0.600</td>\n",
       "      <td>0.08</td>\n",
       "      <td>2.0</td>\n",
       "      <td>0.090</td>\n",
       "      <td>32.0</td>\n",
       "      <td>44.0</td>\n",
       "      <td>0.99490</td>\n",
       "      <td>3.45</td>\n",
       "      <td>0.58</td>\n",
       "      <td>10.5</td>\n",
       "      <td>5</td>\n",
       "    </tr>\n",
       "    <tr>\n",
       "      <th>1595</th>\n",
       "      <td>5.9</td>\n",
       "      <td>0.550</td>\n",
       "      <td>0.10</td>\n",
       "      <td>2.2</td>\n",
       "      <td>0.062</td>\n",
       "      <td>39.0</td>\n",
       "      <td>51.0</td>\n",
       "      <td>0.99512</td>\n",
       "      <td>3.52</td>\n",
       "      <td>0.76</td>\n",
       "      <td>11.2</td>\n",
       "      <td>6</td>\n",
       "    </tr>\n",
       "    <tr>\n",
       "      <th>1596</th>\n",
       "      <td>6.3</td>\n",
       "      <td>0.510</td>\n",
       "      <td>0.13</td>\n",
       "      <td>2.3</td>\n",
       "      <td>0.076</td>\n",
       "      <td>29.0</td>\n",
       "      <td>40.0</td>\n",
       "      <td>0.99574</td>\n",
       "      <td>3.42</td>\n",
       "      <td>0.75</td>\n",
       "      <td>11.0</td>\n",
       "      <td>6</td>\n",
       "    </tr>\n",
       "    <tr>\n",
       "      <th>1597</th>\n",
       "      <td>5.9</td>\n",
       "      <td>0.645</td>\n",
       "      <td>0.12</td>\n",
       "      <td>2.0</td>\n",
       "      <td>0.075</td>\n",
       "      <td>32.0</td>\n",
       "      <td>44.0</td>\n",
       "      <td>0.99547</td>\n",
       "      <td>3.57</td>\n",
       "      <td>0.71</td>\n",
       "      <td>10.2</td>\n",
       "      <td>5</td>\n",
       "    </tr>\n",
       "    <tr>\n",
       "      <th>1598</th>\n",
       "      <td>6.0</td>\n",
       "      <td>0.310</td>\n",
       "      <td>0.47</td>\n",
       "      <td>3.6</td>\n",
       "      <td>0.067</td>\n",
       "      <td>18.0</td>\n",
       "      <td>42.0</td>\n",
       "      <td>0.99549</td>\n",
       "      <td>3.39</td>\n",
       "      <td>0.66</td>\n",
       "      <td>11.0</td>\n",
       "      <td>6</td>\n",
       "    </tr>\n",
       "  </tbody>\n",
       "</table>\n",
       "<p>1599 rows × 12 columns</p>\n",
       "</div>"
      ],
      "text/plain": [
       "      fixed acidity  volatile acidity  citric acid  residual sugar  chlorides  \\\n",
       "0               7.4             0.700         0.00             1.9      0.076   \n",
       "1               7.8             0.880         0.00             2.6      0.098   \n",
       "2               7.8             0.760         0.04             2.3      0.092   \n",
       "3              11.2             0.280         0.56             1.9      0.075   \n",
       "4               7.4             0.700         0.00             1.9      0.076   \n",
       "...             ...               ...          ...             ...        ...   \n",
       "1594            6.2             0.600         0.08             2.0      0.090   \n",
       "1595            5.9             0.550         0.10             2.2      0.062   \n",
       "1596            6.3             0.510         0.13             2.3      0.076   \n",
       "1597            5.9             0.645         0.12             2.0      0.075   \n",
       "1598            6.0             0.310         0.47             3.6      0.067   \n",
       "\n",
       "      free sulfur dioxide  total sulfur dioxide  density    pH  sulphates  \\\n",
       "0                    11.0                  34.0  0.99780  3.51       0.56   \n",
       "1                    25.0                  67.0  0.99680  3.20       0.68   \n",
       "2                    15.0                  54.0  0.99700  3.26       0.65   \n",
       "3                    17.0                  60.0  0.99800  3.16       0.58   \n",
       "4                    11.0                  34.0  0.99780  3.51       0.56   \n",
       "...                   ...                   ...      ...   ...        ...   \n",
       "1594                 32.0                  44.0  0.99490  3.45       0.58   \n",
       "1595                 39.0                  51.0  0.99512  3.52       0.76   \n",
       "1596                 29.0                  40.0  0.99574  3.42       0.75   \n",
       "1597                 32.0                  44.0  0.99547  3.57       0.71   \n",
       "1598                 18.0                  42.0  0.99549  3.39       0.66   \n",
       "\n",
       "      alcohol  quality  \n",
       "0         9.4        5  \n",
       "1         9.8        5  \n",
       "2         9.8        5  \n",
       "3         9.8        6  \n",
       "4         9.4        5  \n",
       "...       ...      ...  \n",
       "1594     10.5        5  \n",
       "1595     11.2        6  \n",
       "1596     11.0        6  \n",
       "1597     10.2        5  \n",
       "1598     11.0        6  \n",
       "\n",
       "[1599 rows x 12 columns]"
      ]
     },
     "execution_count": 3,
     "metadata": {},
     "output_type": "execute_result"
    }
   ],
   "source": [
    "Wine"
   ]
  },
  {
   "cell_type": "code",
   "execution_count": 4,
   "id": "d81b8a03",
   "metadata": {},
   "outputs": [
    {
     "data": {
      "text/html": [
       "<div>\n",
       "<style scoped>\n",
       "    .dataframe tbody tr th:only-of-type {\n",
       "        vertical-align: middle;\n",
       "    }\n",
       "\n",
       "    .dataframe tbody tr th {\n",
       "        vertical-align: top;\n",
       "    }\n",
       "\n",
       "    .dataframe thead th {\n",
       "        text-align: right;\n",
       "    }\n",
       "</style>\n",
       "<table border=\"1\" class=\"dataframe\">\n",
       "  <thead>\n",
       "    <tr style=\"text-align: right;\">\n",
       "      <th></th>\n",
       "      <th>fixed acidity</th>\n",
       "      <th>volatile acidity</th>\n",
       "      <th>citric acid</th>\n",
       "      <th>residual sugar</th>\n",
       "      <th>chlorides</th>\n",
       "      <th>free sulfur dioxide</th>\n",
       "      <th>total sulfur dioxide</th>\n",
       "      <th>density</th>\n",
       "      <th>pH</th>\n",
       "      <th>sulphates</th>\n",
       "      <th>alcohol</th>\n",
       "      <th>quality</th>\n",
       "    </tr>\n",
       "  </thead>\n",
       "  <tbody>\n",
       "    <tr>\n",
       "      <th>0</th>\n",
       "      <td>7.4</td>\n",
       "      <td>0.70</td>\n",
       "      <td>0.00</td>\n",
       "      <td>1.9</td>\n",
       "      <td>0.076</td>\n",
       "      <td>11.0</td>\n",
       "      <td>34.0</td>\n",
       "      <td>0.9978</td>\n",
       "      <td>3.51</td>\n",
       "      <td>0.56</td>\n",
       "      <td>9.4</td>\n",
       "      <td>5</td>\n",
       "    </tr>\n",
       "    <tr>\n",
       "      <th>1</th>\n",
       "      <td>7.8</td>\n",
       "      <td>0.88</td>\n",
       "      <td>0.00</td>\n",
       "      <td>2.6</td>\n",
       "      <td>0.098</td>\n",
       "      <td>25.0</td>\n",
       "      <td>67.0</td>\n",
       "      <td>0.9968</td>\n",
       "      <td>3.20</td>\n",
       "      <td>0.68</td>\n",
       "      <td>9.8</td>\n",
       "      <td>5</td>\n",
       "    </tr>\n",
       "    <tr>\n",
       "      <th>2</th>\n",
       "      <td>7.8</td>\n",
       "      <td>0.76</td>\n",
       "      <td>0.04</td>\n",
       "      <td>2.3</td>\n",
       "      <td>0.092</td>\n",
       "      <td>15.0</td>\n",
       "      <td>54.0</td>\n",
       "      <td>0.9970</td>\n",
       "      <td>3.26</td>\n",
       "      <td>0.65</td>\n",
       "      <td>9.8</td>\n",
       "      <td>5</td>\n",
       "    </tr>\n",
       "    <tr>\n",
       "      <th>3</th>\n",
       "      <td>11.2</td>\n",
       "      <td>0.28</td>\n",
       "      <td>0.56</td>\n",
       "      <td>1.9</td>\n",
       "      <td>0.075</td>\n",
       "      <td>17.0</td>\n",
       "      <td>60.0</td>\n",
       "      <td>0.9980</td>\n",
       "      <td>3.16</td>\n",
       "      <td>0.58</td>\n",
       "      <td>9.8</td>\n",
       "      <td>6</td>\n",
       "    </tr>\n",
       "    <tr>\n",
       "      <th>4</th>\n",
       "      <td>7.4</td>\n",
       "      <td>0.70</td>\n",
       "      <td>0.00</td>\n",
       "      <td>1.9</td>\n",
       "      <td>0.076</td>\n",
       "      <td>11.0</td>\n",
       "      <td>34.0</td>\n",
       "      <td>0.9978</td>\n",
       "      <td>3.51</td>\n",
       "      <td>0.56</td>\n",
       "      <td>9.4</td>\n",
       "      <td>5</td>\n",
       "    </tr>\n",
       "  </tbody>\n",
       "</table>\n",
       "</div>"
      ],
      "text/plain": [
       "   fixed acidity  volatile acidity  citric acid  residual sugar  chlorides  \\\n",
       "0            7.4              0.70         0.00             1.9      0.076   \n",
       "1            7.8              0.88         0.00             2.6      0.098   \n",
       "2            7.8              0.76         0.04             2.3      0.092   \n",
       "3           11.2              0.28         0.56             1.9      0.075   \n",
       "4            7.4              0.70         0.00             1.9      0.076   \n",
       "\n",
       "   free sulfur dioxide  total sulfur dioxide  density    pH  sulphates  \\\n",
       "0                 11.0                  34.0   0.9978  3.51       0.56   \n",
       "1                 25.0                  67.0   0.9968  3.20       0.68   \n",
       "2                 15.0                  54.0   0.9970  3.26       0.65   \n",
       "3                 17.0                  60.0   0.9980  3.16       0.58   \n",
       "4                 11.0                  34.0   0.9978  3.51       0.56   \n",
       "\n",
       "   alcohol  quality  \n",
       "0      9.4        5  \n",
       "1      9.8        5  \n",
       "2      9.8        5  \n",
       "3      9.8        6  \n",
       "4      9.4        5  "
      ]
     },
     "execution_count": 4,
     "metadata": {},
     "output_type": "execute_result"
    }
   ],
   "source": [
    "Wine.head()"
   ]
  },
  {
   "cell_type": "code",
   "execution_count": 5,
   "id": "a623a625",
   "metadata": {},
   "outputs": [
    {
     "data": {
      "text/plain": [
       "fixed acidity           0\n",
       "volatile acidity        0\n",
       "citric acid             0\n",
       "residual sugar          0\n",
       "chlorides               0\n",
       "free sulfur dioxide     0\n",
       "total sulfur dioxide    0\n",
       "density                 0\n",
       "pH                      0\n",
       "sulphates               0\n",
       "alcohol                 0\n",
       "quality                 0\n",
       "dtype: int64"
      ]
     },
     "execution_count": 5,
     "metadata": {},
     "output_type": "execute_result"
    }
   ],
   "source": [
    "Wine.isnull().sum()"
   ]
  },
  {
   "cell_type": "code",
   "execution_count": 6,
   "id": "39a168a3",
   "metadata": {},
   "outputs": [
    {
     "data": {
      "text/plain": [
       "Index(['fixed acidity', 'volatile acidity', 'citric acid', 'residual sugar',\n",
       "       'chlorides', 'free sulfur dioxide', 'total sulfur dioxide', 'density',\n",
       "       'pH', 'sulphates', 'alcohol', 'quality'],\n",
       "      dtype='object')"
      ]
     },
     "execution_count": 6,
     "metadata": {},
     "output_type": "execute_result"
    }
   ],
   "source": [
    "Wine.columns"
   ]
  },
  {
   "cell_type": "code",
   "execution_count": 7,
   "id": "48cb319a",
   "metadata": {},
   "outputs": [],
   "source": [
    "# Quality is our target variable"
   ]
  },
  {
   "cell_type": "code",
   "execution_count": 8,
   "id": "09c339f9",
   "metadata": {},
   "outputs": [
    {
     "name": "stdout",
     "output_type": "stream",
     "text": [
      "<class 'pandas.core.frame.DataFrame'>\n",
      "RangeIndex: 1599 entries, 0 to 1598\n",
      "Data columns (total 12 columns):\n",
      " #   Column                Non-Null Count  Dtype  \n",
      "---  ------                --------------  -----  \n",
      " 0   fixed acidity         1599 non-null   float64\n",
      " 1   volatile acidity      1599 non-null   float64\n",
      " 2   citric acid           1599 non-null   float64\n",
      " 3   residual sugar        1599 non-null   float64\n",
      " 4   chlorides             1599 non-null   float64\n",
      " 5   free sulfur dioxide   1599 non-null   float64\n",
      " 6   total sulfur dioxide  1599 non-null   float64\n",
      " 7   density               1599 non-null   float64\n",
      " 8   pH                    1599 non-null   float64\n",
      " 9   sulphates             1599 non-null   float64\n",
      " 10  alcohol               1599 non-null   float64\n",
      " 11  quality               1599 non-null   int64  \n",
      "dtypes: float64(11), int64(1)\n",
      "memory usage: 150.0 KB\n"
     ]
    }
   ],
   "source": [
    "Wine.info()"
   ]
  },
  {
   "cell_type": "code",
   "execution_count": 9,
   "id": "3e944f6c",
   "metadata": {},
   "outputs": [
    {
     "data": {
      "text/html": [
       "<div>\n",
       "<style scoped>\n",
       "    .dataframe tbody tr th:only-of-type {\n",
       "        vertical-align: middle;\n",
       "    }\n",
       "\n",
       "    .dataframe tbody tr th {\n",
       "        vertical-align: top;\n",
       "    }\n",
       "\n",
       "    .dataframe thead th {\n",
       "        text-align: right;\n",
       "    }\n",
       "</style>\n",
       "<table border=\"1\" class=\"dataframe\">\n",
       "  <thead>\n",
       "    <tr style=\"text-align: right;\">\n",
       "      <th></th>\n",
       "      <th>fixed acidity</th>\n",
       "      <th>volatile acidity</th>\n",
       "      <th>citric acid</th>\n",
       "      <th>residual sugar</th>\n",
       "      <th>chlorides</th>\n",
       "      <th>free sulfur dioxide</th>\n",
       "      <th>total sulfur dioxide</th>\n",
       "      <th>density</th>\n",
       "      <th>pH</th>\n",
       "      <th>sulphates</th>\n",
       "      <th>alcohol</th>\n",
       "      <th>quality</th>\n",
       "    </tr>\n",
       "  </thead>\n",
       "  <tbody>\n",
       "    <tr>\n",
       "      <th>count</th>\n",
       "      <td>1599.000000</td>\n",
       "      <td>1599.000000</td>\n",
       "      <td>1599.000000</td>\n",
       "      <td>1599.000000</td>\n",
       "      <td>1599.000000</td>\n",
       "      <td>1599.000000</td>\n",
       "      <td>1599.000000</td>\n",
       "      <td>1599.000000</td>\n",
       "      <td>1599.000000</td>\n",
       "      <td>1599.000000</td>\n",
       "      <td>1599.000000</td>\n",
       "      <td>1599.000000</td>\n",
       "    </tr>\n",
       "    <tr>\n",
       "      <th>mean</th>\n",
       "      <td>8.319637</td>\n",
       "      <td>0.527821</td>\n",
       "      <td>0.270976</td>\n",
       "      <td>2.538806</td>\n",
       "      <td>0.087467</td>\n",
       "      <td>15.874922</td>\n",
       "      <td>46.467792</td>\n",
       "      <td>0.996747</td>\n",
       "      <td>3.311113</td>\n",
       "      <td>0.658149</td>\n",
       "      <td>10.422983</td>\n",
       "      <td>5.636023</td>\n",
       "    </tr>\n",
       "    <tr>\n",
       "      <th>std</th>\n",
       "      <td>1.741096</td>\n",
       "      <td>0.179060</td>\n",
       "      <td>0.194801</td>\n",
       "      <td>1.409928</td>\n",
       "      <td>0.047065</td>\n",
       "      <td>10.460157</td>\n",
       "      <td>32.895324</td>\n",
       "      <td>0.001887</td>\n",
       "      <td>0.154386</td>\n",
       "      <td>0.169507</td>\n",
       "      <td>1.065668</td>\n",
       "      <td>0.807569</td>\n",
       "    </tr>\n",
       "    <tr>\n",
       "      <th>min</th>\n",
       "      <td>4.600000</td>\n",
       "      <td>0.120000</td>\n",
       "      <td>0.000000</td>\n",
       "      <td>0.900000</td>\n",
       "      <td>0.012000</td>\n",
       "      <td>1.000000</td>\n",
       "      <td>6.000000</td>\n",
       "      <td>0.990070</td>\n",
       "      <td>2.740000</td>\n",
       "      <td>0.330000</td>\n",
       "      <td>8.400000</td>\n",
       "      <td>3.000000</td>\n",
       "    </tr>\n",
       "    <tr>\n",
       "      <th>25%</th>\n",
       "      <td>7.100000</td>\n",
       "      <td>0.390000</td>\n",
       "      <td>0.090000</td>\n",
       "      <td>1.900000</td>\n",
       "      <td>0.070000</td>\n",
       "      <td>7.000000</td>\n",
       "      <td>22.000000</td>\n",
       "      <td>0.995600</td>\n",
       "      <td>3.210000</td>\n",
       "      <td>0.550000</td>\n",
       "      <td>9.500000</td>\n",
       "      <td>5.000000</td>\n",
       "    </tr>\n",
       "    <tr>\n",
       "      <th>50%</th>\n",
       "      <td>7.900000</td>\n",
       "      <td>0.520000</td>\n",
       "      <td>0.260000</td>\n",
       "      <td>2.200000</td>\n",
       "      <td>0.079000</td>\n",
       "      <td>14.000000</td>\n",
       "      <td>38.000000</td>\n",
       "      <td>0.996750</td>\n",
       "      <td>3.310000</td>\n",
       "      <td>0.620000</td>\n",
       "      <td>10.200000</td>\n",
       "      <td>6.000000</td>\n",
       "    </tr>\n",
       "    <tr>\n",
       "      <th>75%</th>\n",
       "      <td>9.200000</td>\n",
       "      <td>0.640000</td>\n",
       "      <td>0.420000</td>\n",
       "      <td>2.600000</td>\n",
       "      <td>0.090000</td>\n",
       "      <td>21.000000</td>\n",
       "      <td>62.000000</td>\n",
       "      <td>0.997835</td>\n",
       "      <td>3.400000</td>\n",
       "      <td>0.730000</td>\n",
       "      <td>11.100000</td>\n",
       "      <td>6.000000</td>\n",
       "    </tr>\n",
       "    <tr>\n",
       "      <th>max</th>\n",
       "      <td>15.900000</td>\n",
       "      <td>1.580000</td>\n",
       "      <td>1.000000</td>\n",
       "      <td>15.500000</td>\n",
       "      <td>0.611000</td>\n",
       "      <td>72.000000</td>\n",
       "      <td>289.000000</td>\n",
       "      <td>1.003690</td>\n",
       "      <td>4.010000</td>\n",
       "      <td>2.000000</td>\n",
       "      <td>14.900000</td>\n",
       "      <td>8.000000</td>\n",
       "    </tr>\n",
       "  </tbody>\n",
       "</table>\n",
       "</div>"
      ],
      "text/plain": [
       "       fixed acidity  volatile acidity  citric acid  residual sugar  \\\n",
       "count    1599.000000       1599.000000  1599.000000     1599.000000   \n",
       "mean        8.319637          0.527821     0.270976        2.538806   \n",
       "std         1.741096          0.179060     0.194801        1.409928   \n",
       "min         4.600000          0.120000     0.000000        0.900000   \n",
       "25%         7.100000          0.390000     0.090000        1.900000   \n",
       "50%         7.900000          0.520000     0.260000        2.200000   \n",
       "75%         9.200000          0.640000     0.420000        2.600000   \n",
       "max        15.900000          1.580000     1.000000       15.500000   \n",
       "\n",
       "         chlorides  free sulfur dioxide  total sulfur dioxide      density  \\\n",
       "count  1599.000000          1599.000000           1599.000000  1599.000000   \n",
       "mean      0.087467            15.874922             46.467792     0.996747   \n",
       "std       0.047065            10.460157             32.895324     0.001887   \n",
       "min       0.012000             1.000000              6.000000     0.990070   \n",
       "25%       0.070000             7.000000             22.000000     0.995600   \n",
       "50%       0.079000            14.000000             38.000000     0.996750   \n",
       "75%       0.090000            21.000000             62.000000     0.997835   \n",
       "max       0.611000            72.000000            289.000000     1.003690   \n",
       "\n",
       "                pH    sulphates      alcohol      quality  \n",
       "count  1599.000000  1599.000000  1599.000000  1599.000000  \n",
       "mean      3.311113     0.658149    10.422983     5.636023  \n",
       "std       0.154386     0.169507     1.065668     0.807569  \n",
       "min       2.740000     0.330000     8.400000     3.000000  \n",
       "25%       3.210000     0.550000     9.500000     5.000000  \n",
       "50%       3.310000     0.620000    10.200000     6.000000  \n",
       "75%       3.400000     0.730000    11.100000     6.000000  \n",
       "max       4.010000     2.000000    14.900000     8.000000  "
      ]
     },
     "execution_count": 9,
     "metadata": {},
     "output_type": "execute_result"
    }
   ],
   "source": [
    "Wine.describe()"
   ]
  },
  {
   "cell_type": "code",
   "execution_count": 10,
   "id": "a6616852",
   "metadata": {},
   "outputs": [
    {
     "data": {
      "text/plain": [
       "5    681\n",
       "6    638\n",
       "7    199\n",
       "4     53\n",
       "8     18\n",
       "3     10\n",
       "Name: quality, dtype: int64"
      ]
     },
     "execution_count": 10,
     "metadata": {},
     "output_type": "execute_result"
    }
   ],
   "source": [
    "Wine.quality.value_counts()"
   ]
  },
  {
   "cell_type": "code",
   "execution_count": 11,
   "id": "f8c794db",
   "metadata": {},
   "outputs": [],
   "source": [
    "import matplotlib.pyplot as plt\n",
    "%matplotlib inline\n",
    "from matplotlib import pyplot\n",
    "import seaborn as sns\n",
    "sns.set(style='white', context='notebook', palette='deep')\n",
    "from scipy.stats import pearsonr\n",
    "from sklearn.model_selection import train_test_split\n",
    "\n",
    "\n",
    "from sklearn.linear_model import LogisticRegression\n",
    "from sklearn.neighbors import KNeighborsClassifier as KNN\n",
    "from sklearn.svm import SVC\n",
    "from sklearn.naive_bayes import GaussianNB\n",
    "from sklearn.ensemble import RandomForestClassifier \n",
    "from sklearn.model_selection import cross_val_score\n",
    "from sklearn.metrics import confusion_matrix \n",
    "\n",
    "%config Completer.use_jedi = False\n"
   ]
  },
  {
   "cell_type": "code",
   "execution_count": 12,
   "id": "89956071",
   "metadata": {},
   "outputs": [
    {
     "data": {
      "text/plain": [
       "<AxesSubplot:xlabel='quality', ylabel='count'>"
      ]
     },
     "execution_count": 12,
     "metadata": {},
     "output_type": "execute_result"
    },
    {
     "data": {
      "image/png": "[encoded data removed]",
      "text/plain": [
       "<Figure size 432x288 with 1 Axes>"
      ]
     },
     "metadata": {},
     "output_type": "display_data"
    }
   ],
   "source": [
    "sns.countplot(x=\"quality\", data=Wine)"
   ]
  },
  {
   "cell_type": "code",
   "execution_count": 13,
   "id": "a0ed19d4",
   "metadata": {},
   "outputs": [],
   "source": [
    "#Analysing Fixed acidity"
   ]
  },
  {
   "cell_type": "code",
   "execution_count": 14,
   "id": "7fee3b6a",
   "metadata": {},
   "outputs": [
    {
     "data": {
      "text/plain": [
       "<AxesSubplot:ylabel='Frequency'>"
      ]
     },
     "execution_count": 14,
     "metadata": {},
     "output_type": "execute_result"
    },
    {
     "data": {
      "image/png": "[encoded data removed]",
      "text/plain": [
       "<Figure size 432x288 with 1 Axes>"
      ]
     },
     "metadata": {},
     "output_type": "display_data"
    }
   ],
   "source": [
    "Wine['fixed acidity'].plot.hist(grid=True)"
   ]
  },
  {
   "cell_type": "code",
   "execution_count": 15,
   "id": "f95ad826",
   "metadata": {},
   "outputs": [
    {
     "name": "stdout",
     "output_type": "stream",
     "text": [
      "Min value 4.6\n",
      "Max value 15.9\n"
     ]
    }
   ],
   "source": [
    "print('Min value',Wine['fixed acidity'].min())\n",
    "print('Max value', Wine['fixed acidity'].max())"
   ]
  },
  {
   "cell_type": "code",
   "execution_count": 16,
   "id": "bc78f9b1",
   "metadata": {},
   "outputs": [],
   "source": [
    "#Analysing Volatile acidity"
   ]
  },
  {
   "cell_type": "code",
   "execution_count": 17,
   "id": "52e45d64",
   "metadata": {},
   "outputs": [
    {
     "data": {
      "text/plain": [
       "<AxesSubplot:ylabel='Frequency'>"
      ]
     },
     "execution_count": 17,
     "metadata": {},
     "output_type": "execute_result"
    },
    {
     "data": {
      "image/png": "[encoded data removed]",
      "text/plain": [
       "<Figure size 432x288 with 1 Axes>"
      ]
     },
     "metadata": {},
     "output_type": "display_data"
    }
   ],
   "source": [
    "Wine['volatile acidity'].plot.hist(grid=True)"
   ]
  },
  {
   "cell_type": "code",
   "execution_count": 18,
   "id": "7bfeffac",
   "metadata": {},
   "outputs": [
    {
     "name": "stdout",
     "output_type": "stream",
     "text": [
      "Min value 0.12\n",
      "Max value 1.58\n"
     ]
    }
   ],
   "source": [
    "print('Min value',Wine['volatile acidity'].min())\n",
    "print('Max value', Wine['volatile acidity'].max())"
   ]
  },
  {
   "cell_type": "code",
   "execution_count": 19,
   "id": "2fd6e793",
   "metadata": {},
   "outputs": [],
   "source": [
    "#Analysing Citric acidity"
   ]
  },
  {
   "cell_type": "code",
   "execution_count": 20,
   "id": "58461cea",
   "metadata": {},
   "outputs": [
    {
     "data": {
      "text/plain": [
       "<AxesSubplot:ylabel='Frequency'>"
      ]
     },
     "execution_count": 20,
     "metadata": {},
     "output_type": "execute_result"
    },
    {
     "data": {
      "image/png": "[encoded data removed]",
      "text/plain": [
       "<Figure size 432x288 with 1 Axes>"
      ]
     },
     "metadata": {},
     "output_type": "display_data"
    }
   ],
   "source": [
    "Wine['citric acid'].plot.hist(grid=True)"
   ]
  },
  {
   "cell_type": "code",
   "execution_count": 21,
   "id": "481b4135",
   "metadata": {},
   "outputs": [
    {
     "name": "stdout",
     "output_type": "stream",
     "text": [
      "Min value 0.0\n",
      "Max value 1.0\n"
     ]
    }
   ],
   "source": [
    "print('Min value',Wine['citric acid'].min())\n",
    "print('Max value', Wine['citric acid'].max())"
   ]
  },
  {
   "cell_type": "code",
   "execution_count": 22,
   "id": "f9e4df62",
   "metadata": {},
   "outputs": [],
   "source": [
    "#Analysing residual sugar"
   ]
  },
  {
   "cell_type": "code",
   "execution_count": 23,
   "id": "68ce7b4d",
   "metadata": {},
   "outputs": [
    {
     "data": {
      "text/plain": [
       "<AxesSubplot:ylabel='Frequency'>"
      ]
     },
     "execution_count": 23,
     "metadata": {},
     "output_type": "execute_result"
    },
    {
     "data": {
      "image/png": "[encoded data removed]",
      "text/plain": [
       "<Figure size 432x288 with 1 Axes>"
      ]
     },
     "metadata": {},
     "output_type": "display_data"
    }
   ],
   "source": [
    "Wine['residual sugar'].plot.hist(grid=True)"
   ]
  },
  {
   "cell_type": "code",
   "execution_count": 24,
   "id": "d778c390",
   "metadata": {},
   "outputs": [
    {
     "name": "stdout",
     "output_type": "stream",
     "text": [
      "Min value 0.9\n",
      "Max value 15.5\n"
     ]
    }
   ],
   "source": [
    "print('Min value',Wine['residual sugar'].min())\n",
    "print('Max value', Wine['residual sugar'].max())"
   ]
  },
  {
   "cell_type": "code",
   "execution_count": 25,
   "id": "9bde1ef6",
   "metadata": {},
   "outputs": [],
   "source": [
    "##Analysing chlorides"
   ]
  },
  {
   "cell_type": "code",
   "execution_count": 26,
   "id": "e8efb51b",
   "metadata": {},
   "outputs": [
    {
     "data": {
      "text/plain": [
       "<AxesSubplot:ylabel='Frequency'>"
      ]
     },
     "execution_count": 26,
     "metadata": {},
     "output_type": "execute_result"
    },
    {
     "data": {
      "image/png": "[encoded data removed]",
      "text/plain": [
       "<Figure size 432x288 with 1 Axes>"
      ]
     },
     "metadata": {},
     "output_type": "display_data"
    }
   ],
   "source": [
    "Wine['chlorides'].plot.hist(grid=True)"
   ]
  },
  {
   "cell_type": "code",
   "execution_count": 27,
   "id": "0b39eeb4",
   "metadata": {},
   "outputs": [
    {
     "name": "stdout",
     "output_type": "stream",
     "text": [
      "Min value 0.012\n",
      "Max value 0.611\n"
     ]
    }
   ],
   "source": [
    "print('Min value',Wine['chlorides'].min())\n",
    "print('Max value',Wine['chlorides'].max())"
   ]
  },
  {
   "cell_type": "code",
   "execution_count": 28,
   "id": "363b5dde",
   "metadata": {},
   "outputs": [],
   "source": [
    "#Analysing free sulfur dioxide"
   ]
  },
  {
   "cell_type": "code",
   "execution_count": 29,
   "id": "72b781be",
   "metadata": {},
   "outputs": [
    {
     "data": {
      "text/plain": [
       "<AxesSubplot:ylabel='Frequency'>"
      ]
     },
     "execution_count": 29,
     "metadata": {},
     "output_type": "execute_result"
    },
    {
     "data": {
      "image/png": "[encoded data removed]",
      "text/plain": [
       "<Figure size 432x288 with 1 Axes>"
      ]
     },
     "metadata": {},
     "output_type": "display_data"
    }
   ],
   "source": [
    "Wine['free sulfur dioxide'].plot.hist(grid=True)"
   ]
  },
  {
   "cell_type": "code",
   "execution_count": 30,
   "id": "475d8255",
   "metadata": {},
   "outputs": [
    {
     "name": "stdout",
     "output_type": "stream",
     "text": [
      "Min value 1.0\n",
      "Max value 72.0\n"
     ]
    }
   ],
   "source": [
    "print('Min value',Wine['free sulfur dioxide'].min())\n",
    "print('Max value',Wine['free sulfur dioxide'].max())"
   ]
  },
  {
   "cell_type": "code",
   "execution_count": 31,
   "id": "c6140f11",
   "metadata": {},
   "outputs": [],
   "source": [
    "# Analysing total sulfur dioxide"
   ]
  },
  {
   "cell_type": "code",
   "execution_count": 32,
   "id": "d62982f4",
   "metadata": {},
   "outputs": [
    {
     "data": {
      "text/plain": [
       "<AxesSubplot:ylabel='Frequency'>"
      ]
     },
     "execution_count": 32,
     "metadata": {},
     "output_type": "execute_result"
    },
    {
     "data": {
      "image/png": "[encoded data removed]",
      "text/plain": [
       "<Figure size 432x288 with 1 Axes>"
      ]
     },
     "metadata": {},
     "output_type": "display_data"
    }
   ],
   "source": [
    "Wine['total sulfur dioxide'].plot.hist(grid=True)"
   ]
  },
  {
   "cell_type": "code",
   "execution_count": 33,
   "id": "ef61b27e",
   "metadata": {},
   "outputs": [
    {
     "name": "stdout",
     "output_type": "stream",
     "text": [
      "Min value 6.0\n",
      "Max value 289.0\n"
     ]
    }
   ],
   "source": [
    "print('Min value',Wine['total sulfur dioxide'].min())\n",
    "print('Max value',Wine['total sulfur dioxide'].max())"
   ]
  },
  {
   "cell_type": "code",
   "execution_count": 34,
   "id": "ecacf511",
   "metadata": {},
   "outputs": [],
   "source": [
    "#Analysing density"
   ]
  },
  {
   "cell_type": "code",
   "execution_count": 35,
   "id": "43e0ad18",
   "metadata": {},
   "outputs": [
    {
     "data": {
      "text/plain": [
       "<AxesSubplot:ylabel='Frequency'>"
      ]
     },
     "execution_count": 35,
     "metadata": {},
     "output_type": "execute_result"
    },
    {
     "data": {
      "image/png": "[encoded data removed]",
      "text/plain": [
       "<Figure size 432x288 with 1 Axes>"
      ]
     },
     "metadata": {},
     "output_type": "display_data"
    }
   ],
   "source": [
    "Wine['density'].plot.hist(grid=True)"
   ]
  },
  {
   "cell_type": "code",
   "execution_count": 36,
   "id": "e8747478",
   "metadata": {},
   "outputs": [
    {
     "name": "stdout",
     "output_type": "stream",
     "text": [
      "Min value 0.99007\n",
      "Max value 1.00369\n"
     ]
    }
   ],
   "source": [
    "print('Min value',Wine['density'].min())\n",
    "print('Max value',Wine['density'].max())"
   ]
  },
  {
   "cell_type": "code",
   "execution_count": 37,
   "id": "fc75386f",
   "metadata": {},
   "outputs": [],
   "source": [
    "#Analysing pH"
   ]
  },
  {
   "cell_type": "code",
   "execution_count": 38,
   "id": "2b636e62",
   "metadata": {},
   "outputs": [
    {
     "data": {
      "text/plain": [
       "<AxesSubplot:ylabel='Frequency'>"
      ]
     },
     "execution_count": 38,
     "metadata": {},
     "output_type": "execute_result"
    },
    {
     "data": {
      "image/png": "[encoded data removed]",
      "text/plain": [
       "<Figure size 432x288 with 1 Axes>"
      ]
     },
     "metadata": {},
     "output_type": "display_data"
    }
   ],
   "source": [
    "Wine['pH'].plot.hist(grid=True)"
   ]
  },
  {
   "cell_type": "code",
   "execution_count": 39,
   "id": "96507b3c",
   "metadata": {},
   "outputs": [
    {
     "name": "stdout",
     "output_type": "stream",
     "text": [
      "Min value 2.74\n",
      "Max value 4.01\n"
     ]
    }
   ],
   "source": [
    "print('Min value',Wine['pH'].min())\n",
    "print('Max value',Wine['pH'].max())"
   ]
  },
  {
   "cell_type": "code",
   "execution_count": 40,
   "id": "c2fe54e8",
   "metadata": {},
   "outputs": [],
   "source": [
    "#Analysing sulphates"
   ]
  },
  {
   "cell_type": "code",
   "execution_count": 41,
   "id": "49a25381",
   "metadata": {},
   "outputs": [
    {
     "data": {
      "text/plain": [
       "<AxesSubplot:ylabel='Frequency'>"
      ]
     },
     "execution_count": 41,
     "metadata": {},
     "output_type": "execute_result"
    },
    {
     "data": {
      "image/png": "[encoded data removed]",
      "text/plain": [
       "<Figure size 432x288 with 1 Axes>"
      ]
     },
     "metadata": {},
     "output_type": "display_data"
    }
   ],
   "source": [
    "Wine['sulphates'].plot.hist(grid=True)"
   ]
  },
  {
   "cell_type": "code",
   "execution_count": 42,
   "id": "744ecb68",
   "metadata": {},
   "outputs": [
    {
     "name": "stdout",
     "output_type": "stream",
     "text": [
      "Min value 0.33\n",
      "Max value 2.0\n"
     ]
    }
   ],
   "source": [
    "print('Min value',Wine['sulphates'].min())\n",
    "print('Max value',Wine['sulphates'].max())"
   ]
  },
  {
   "cell_type": "code",
   "execution_count": 43,
   "id": "6b597187",
   "metadata": {},
   "outputs": [],
   "source": [
    "#Analysing alcohol"
   ]
  },
  {
   "cell_type": "code",
   "execution_count": 44,
   "id": "14f36ba0",
   "metadata": {},
   "outputs": [
    {
     "data": {
      "text/plain": [
       "<AxesSubplot:ylabel='Frequency'>"
      ]
     },
     "execution_count": 44,
     "metadata": {},
     "output_type": "execute_result"
    },
    {
     "data": {
      "image/png": "[encoded data removed]",
      "text/plain": [
       "<Figure size 432x288 with 1 Axes>"
      ]
     },
     "metadata": {},
     "output_type": "display_data"
    }
   ],
   "source": [
    "Wine['alcohol'].plot.hist(grid=True)"
   ]
  },
  {
   "cell_type": "code",
   "execution_count": 45,
   "id": "b4c08dce",
   "metadata": {},
   "outputs": [
    {
     "name": "stdout",
     "output_type": "stream",
     "text": [
      "Min value 8.4\n",
      "Max value 14.9\n"
     ]
    }
   ],
   "source": [
    "print('Min value',Wine['alcohol'].min())\n",
    "print('Max value',Wine['alcohol'].max())"
   ]
  },
  {
   "cell_type": "code",
   "execution_count": 46,
   "id": "36b6ae3d",
   "metadata": {},
   "outputs": [],
   "source": [
    "#Let's havae a look at density and alcohol"
   ]
  },
  {
   "cell_type": "code",
   "execution_count": 47,
   "id": "b609f719",
   "metadata": {},
   "outputs": [
    {
     "data": {
      "text/plain": [
       "<AxesSubplot:xlabel='density', ylabel='alcohol'>"
      ]
     },
     "execution_count": 47,
     "metadata": {},
     "output_type": "execute_result"
    },
    {
     "data": {
      "image/png": "[encoded data removed]",
      "text/plain": [
       "<Figure size 432x288 with 1 Axes>"
      ]
     },
     "metadata": {},
     "output_type": "display_data"
    }
   ],
   "source": [
    "sns.scatterplot(x='density', y='alcohol', data=Wine)"
   ]
  },
  {
   "cell_type": "code",
   "execution_count": 48,
   "id": "49dbe814",
   "metadata": {},
   "outputs": [],
   "source": [
    "#Analysing Which factor is affecting the Quality of Wine"
   ]
  },
  {
   "cell_type": "code",
   "execution_count": 49,
   "id": "c9a6feb5",
   "metadata": {},
   "outputs": [
    {
     "data": {
      "text/plain": [
       "<AxesSubplot:xlabel='pH', ylabel='alcohol'>"
      ]
     },
     "execution_count": 49,
     "metadata": {},
     "output_type": "execute_result"
    },
    {
     "data": {
      "image/png": "[encoded data removed]",
      "text/plain": [
       "<Figure size 432x288 with 1 Axes>"
      ]
     },
     "metadata": {},
     "output_type": "display_data"
    }
   ],
   "source": [
    "sns.scatterplot(x='pH', y='alcohol', data=Wine)"
   ]
  },
  {
   "cell_type": "code",
   "execution_count": 50,
   "id": "6544ae49",
   "metadata": {},
   "outputs": [
    {
     "data": {
      "text/plain": [
       "<AxesSubplot:xlabel='density'>"
      ]
     },
     "execution_count": 50,
     "metadata": {},
     "output_type": "execute_result"
    },
    {
     "data": {
      "image/png": "[encoded data removed]",
      "text/plain": [
       "<Figure size 432x288 with 1 Axes>"
      ]
     },
     "metadata": {},
     "output_type": "display_data"
    }
   ],
   "source": [
    "sns.boxplot(data=Wine, x='density')"
   ]
  },
  {
   "cell_type": "code",
   "execution_count": 51,
   "id": "ce82460c",
   "metadata": {},
   "outputs": [],
   "source": [
    "#Checking for Outliers"
   ]
  },
  {
   "cell_type": "code",
   "execution_count": 52,
   "id": "85a9916e",
   "metadata": {},
   "outputs": [
    {
     "data": {
      "text/plain": [
       "fixed acidity           0\n",
       "volatile acidity        0\n",
       "citric acid             0\n",
       "residual sugar          0\n",
       "chlorides               0\n",
       "free sulfur dioxide     0\n",
       "total sulfur dioxide    0\n",
       "density                 0\n",
       "pH                      0\n",
       "sulphates               0\n",
       "alcohol                 0\n",
       "quality                 0\n",
       "dtype: int64"
      ]
     },
     "execution_count": 52,
     "metadata": {},
     "output_type": "execute_result"
    }
   ],
   "source": [
    "Wine.isnull().sum()"
   ]
  },
  {
   "cell_type": "code",
   "execution_count": 53,
   "id": "f33ff751",
   "metadata": {},
   "outputs": [],
   "source": [
    "#We don't have any missing values"
   ]
  },
  {
   "cell_type": "code",
   "execution_count": 54,
   "id": "814d1868",
   "metadata": {},
   "outputs": [],
   "source": [
    "#Let's try to understand how to have a quality wine"
   ]
  },
  {
   "cell_type": "code",
   "execution_count": 55,
   "id": "80c52040",
   "metadata": {},
   "outputs": [
    {
     "data": {
      "text/plain": [
       "<AxesSubplot:xlabel='quality', ylabel='fixed acidity'>"
      ]
     },
     "execution_count": 55,
     "metadata": {},
     "output_type": "execute_result"
    },
    {
     "data": {
      "image/png": "[encoded data removed]",
      "text/plain": [
       "<Figure size 720x432 with 1 Axes>"
      ]
     },
     "metadata": {},
     "output_type": "display_data"
    }
   ],
   "source": [
    "fig = plt.figure(figsize = (10,6))\n",
    "sns.barplot(x = 'quality', y = 'fixed acidity', data = Wine)"
   ]
  },
  {
   "cell_type": "code",
   "execution_count": 56,
   "id": "46ea9de8",
   "metadata": {},
   "outputs": [],
   "source": [
    "#Observation:fixed acidity does not give any specification to classify the quality."
   ]
  },
  {
   "cell_type": "code",
   "execution_count": 57,
   "id": "d43b3f91",
   "metadata": {},
   "outputs": [
    {
     "data": {
      "text/plain": [
       "<AxesSubplot:xlabel='quality', ylabel='volatile acidity'>"
      ]
     },
     "execution_count": 57,
     "metadata": {},
     "output_type": "execute_result"
    },
    {
     "data": {
      "image/png": "[encoded data removed]",
      "text/plain": [
       "<Figure size 720x432 with 1 Axes>"
      ]
     },
     "metadata": {},
     "output_type": "display_data"
    }
   ],
   "source": [
    "fig = plt.figure(figsize = (10,6))\n",
    "sns.barplot(x = 'quality', y = 'volatile acidity', data = Wine)"
   ]
  },
  {
   "cell_type": "code",
   "execution_count": 58,
   "id": "7c67e530",
   "metadata": {},
   "outputs": [],
   "source": [
    "# Observation:its quite a downing trend in the volatile acidity as we go higher the quality"
   ]
  },
  {
   "cell_type": "code",
   "execution_count": 59,
   "id": "0bddf46f",
   "metadata": {},
   "outputs": [
    {
     "data": {
      "text/plain": [
       "<AxesSubplot:xlabel='quality', ylabel='residual sugar'>"
      ]
     },
     "execution_count": 59,
     "metadata": {},
     "output_type": "execute_result"
    },
    {
     "data": {
      "image/png": "[encoded data removed]",
      "text/plain": [
       "<Figure size 720x432 with 1 Axes>"
      ]
     },
     "metadata": {},
     "output_type": "display_data"
    }
   ],
   "source": [
    "fig = plt.figure(figsize = (10,6))\n",
    "sns.barplot(x = 'quality', y = 'residual sugar', data = Wine)"
   ]
  },
  {
   "cell_type": "code",
   "execution_count": 60,
   "id": "ee055c19",
   "metadata": {},
   "outputs": [
    {
     "data": {
      "text/plain": [
       "<AxesSubplot:xlabel='quality', ylabel='free sulfur dioxide'>"
      ]
     },
     "execution_count": 60,
     "metadata": {},
     "output_type": "execute_result"
    },
    {
     "data": {
      "image/png": "[encoded data removed]",
      "text/plain": [
       "<Figure size 720x432 with 1 Axes>"
      ]
     },
     "metadata": {},
     "output_type": "display_data"
    }
   ],
   "source": [
    "fig = plt.figure(figsize = (10,6))\n",
    "sns.barplot(x = 'quality', y = 'free sulfur dioxide', data = Wine)"
   ]
  },
  {
   "cell_type": "code",
   "execution_count": 61,
   "id": "bf296819",
   "metadata": {},
   "outputs": [
    {
     "data": {
      "text/plain": [
       "<AxesSubplot:xlabel='quality', ylabel='citric acid'>"
      ]
     },
     "execution_count": 61,
     "metadata": {},
     "output_type": "execute_result"
    },
    {
     "data": {
      "image/png": "[encoded data removed]",
      "text/plain": [
       "<Figure size 720x432 with 1 Axes>"
      ]
     },
     "metadata": {},
     "output_type": "display_data"
    }
   ],
   "source": [
    "fig = plt.figure(figsize = (10,6))\n",
    "sns.barplot(x = 'quality', y = 'citric acid', data = Wine)"
   ]
  },
  {
   "cell_type": "code",
   "execution_count": 62,
   "id": "f44f8c47",
   "metadata": {},
   "outputs": [],
   "source": [
    "#Composition of citric acid go higher as we go higher in the quality of the wine"
   ]
  },
  {
   "cell_type": "code",
   "execution_count": 63,
   "id": "e9006c71",
   "metadata": {},
   "outputs": [
    {
     "data": {
      "text/plain": [
       "<AxesSubplot:xlabel='quality', ylabel='chlorides'>"
      ]
     },
     "execution_count": 63,
     "metadata": {},
     "output_type": "execute_result"
    },
    {
     "data": {
      "image/png": "[encoded data removed]",
      "text/plain": [
       "<Figure size 720x432 with 1 Axes>"
      ]
     },
     "metadata": {},
     "output_type": "display_data"
    }
   ],
   "source": [
    "fig = plt.figure(figsize = (10,6))\n",
    "sns.barplot(x = 'quality', y = 'chlorides', data = Wine)"
   ]
  },
  {
   "cell_type": "code",
   "execution_count": 64,
   "id": "2037311e",
   "metadata": {},
   "outputs": [],
   "source": [
    "#Composition of chlorides is inversly proportionl to quality of wine"
   ]
  },
  {
   "cell_type": "code",
   "execution_count": 65,
   "id": "214bf489",
   "metadata": {},
   "outputs": [
    {
     "data": {
      "text/plain": [
       "<AxesSubplot:xlabel='quality', ylabel='sulphates'>"
      ]
     },
     "execution_count": 65,
     "metadata": {},
     "output_type": "execute_result"
    },
    {
     "data": {
      "image/png": "[encoded data removed]",
      "text/plain": [
       "<Figure size 720x432 with 1 Axes>"
      ]
     },
     "metadata": {},
     "output_type": "display_data"
    }
   ],
   "source": [
    "fig = plt.figure(figsize = (10,6))\n",
    "sns.barplot(x = 'quality', y = 'sulphates', data = Wine)"
   ]
  },
  {
   "cell_type": "code",
   "execution_count": 66,
   "id": "eb642253",
   "metadata": {},
   "outputs": [],
   "source": [
    "#Sulphates level goes higher with the quality of wine"
   ]
  },
  {
   "cell_type": "code",
   "execution_count": 67,
   "id": "f2c2a4be",
   "metadata": {},
   "outputs": [
    {
     "data": {
      "text/plain": [
       "<AxesSubplot:xlabel='quality', ylabel='alcohol'>"
      ]
     },
     "execution_count": 67,
     "metadata": {},
     "output_type": "execute_result"
    },
    {
     "data": {
      "image/png": "[encoded data removed]",
      "text/plain": [
       "<Figure size 720x432 with 1 Axes>"
      ]
     },
     "metadata": {},
     "output_type": "display_data"
    }
   ],
   "source": [
    "fig = plt.figure(figsize = (10,6))\n",
    "sns.barplot(x = 'quality', y = 'alcohol', data = Wine)"
   ]
  },
  {
   "cell_type": "code",
   "execution_count": 68,
   "id": "3ade3a9d",
   "metadata": {},
   "outputs": [
    {
     "data": {
      "text/plain": [
       "<AxesSubplot:xlabel='quality', ylabel='pH'>"
      ]
     },
     "execution_count": 68,
     "metadata": {},
     "output_type": "execute_result"
    },
    {
     "data": {
      "image/png": "[encoded data removed]",
      "text/plain": [
       "<Figure size 720x432 with 1 Axes>"
      ]
     },
     "metadata": {},
     "output_type": "display_data"
    }
   ],
   "source": [
    "fig = plt.figure(figsize = (10,6))\n",
    "sns.barplot(x = 'quality', y = 'pH', data = Wine)"
   ]
  },
  {
   "cell_type": "code",
   "execution_count": 69,
   "id": "c5b5e835",
   "metadata": {},
   "outputs": [],
   "source": [
    "#Quality level also goes higher as te PH of wine decreases"
   ]
  },
  {
   "cell_type": "code",
   "execution_count": 70,
   "id": "ae4b2a6c",
   "metadata": {},
   "outputs": [],
   "source": [
    "#Quality increases with\n",
    "#decrease in volatile acidity.\n",
    "#increase in citric acid.\n",
    "#decrease in chlorides.\n",
    "#decrease in pH.\n",
    "#increase in sulphates.\n",
    "#increase in alcohol."
   ]
  },
  {
   "cell_type": "code",
   "execution_count": 71,
   "id": "894dff1a",
   "metadata": {},
   "outputs": [],
   "source": [
    "#Correlation"
   ]
  },
  {
   "cell_type": "code",
   "execution_count": 72,
   "id": "14705b78",
   "metadata": {},
   "outputs": [
    {
     "data": {
      "image/png": "[encoded data removed]",
      "text/plain": [
       "<Figure size 720x720 with 2 Axes>"
      ]
     },
     "metadata": {},
     "output_type": "display_data"
    }
   ],
   "source": [
    "plt.figure(figsize=(10, 10))\n",
    "sns.heatmap(Wine.corr(method='pearson'), annot=True, square=True)\n",
    "plt.show()"
   ]
  },
  {
   "cell_type": "code",
   "execution_count": 73,
   "id": "331b99f2",
   "metadata": {},
   "outputs": [
    {
     "name": "stdout",
     "output_type": "stream",
     "text": [
      "Correlation of different features of our dataset with quality:\n",
      "fixed acidity : 0.1241\n",
      "volatile acidity : -0.3906\n",
      "citric acid : 0.2264\n",
      "residual sugar : 0.0137\n",
      "chlorides : -0.1289\n",
      "free sulfur dioxide : -0.0507\n",
      "total sulfur dioxide : -0.1851\n",
      "density : -0.1749\n",
      "pH : -0.0577\n",
      "sulphates : 0.2514\n",
      "alcohol : 0.4762\n",
      "quality : 1.0000\n"
     ]
    }
   ],
   "source": [
    "print('Correlation of different features of our dataset with quality:')\n",
    "for i in Wine.columns:\n",
    "  corr, _ = pearsonr(Wine[i], Wine['quality'])\n",
    "  print('%s : %.4f' %(i,corr))"
   ]
  },
  {
   "cell_type": "code",
   "execution_count": 74,
   "id": "078e1023",
   "metadata": {},
   "outputs": [],
   "source": [
    "#From the above values we observe:"
   ]
  },
  {
   "cell_type": "code",
   "execution_count": 75,
   "id": "05b9edda",
   "metadata": {},
   "outputs": [],
   "source": [
    "#volatile acidity, chlorides and ph are negatively correlated to quality — hence our statement was right that quality increases with decrease in value of these features;and vice versa for other features.\n",
    "#free sulfur dioxide and total sulfur dioxide are highly correlated to each other with correlation of 0.67.\n",
    "#There are many features with correlation < 0.5 to quality, and may be removed from the dataset."
   ]
  },
  {
   "cell_type": "code",
   "execution_count": 76,
   "id": "6bd27171",
   "metadata": {},
   "outputs": [],
   "source": [
    "#Dividing quality of wine in two buckets, ie. Good wine and Bad wine, and on the basis of this we will give our final result."
   ]
  },
  {
   "cell_type": "code",
   "execution_count": 77,
   "id": "8c8e0984",
   "metadata": {},
   "outputs": [],
   "source": [
    "#for another view, this method can be used to view correlations"
   ]
  },
  {
   "cell_type": "code",
   "execution_count": 78,
   "id": "c2ad22ff",
   "metadata": {},
   "outputs": [
    {
     "name": "stdout",
     "output_type": "stream",
     "text": [
      "Another view of correlations among features:\n",
      "\n"
     ]
    },
    {
     "data": {
      "text/html": [
       "<style type=\"text/css\">\n",
       "#T_ba9a1_row0_col0, #T_ba9a1_row1_col1, #T_ba9a1_row2_col2, #T_ba9a1_row3_col3, #T_ba9a1_row4_col4, #T_ba9a1_row5_col5, #T_ba9a1_row6_col6, #T_ba9a1_row7_col7, #T_ba9a1_row8_col8, #T_ba9a1_row9_col9, #T_ba9a1_row10_col10, #T_ba9a1_row11_col11 {\n",
       "  background-color: #b40426;\n",
       "  color: #f1f1f1;\n",
       "}\n",
       "#T_ba9a1_row0_col1, #T_ba9a1_row4_col11, #T_ba9a1_row9_col1 {\n",
       "  background-color: #779af7;\n",
       "  color: #f1f1f1;\n",
       "}\n",
       "#T_ba9a1_row0_col2 {\n",
       "  background-color: #f08a6c;\n",
       "  color: #f1f1f1;\n",
       "}\n",
       "#T_ba9a1_row0_col3, #T_ba9a1_row4_col10 {\n",
       "  background-color: #7699f6;\n",
       "  color: #f1f1f1;\n",
       "}\n",
       "#T_ba9a1_row0_col4 {\n",
       "  background-color: #98b9ff;\n",
       "  color: #000000;\n",
       "}\n",
       "#T_ba9a1_row0_col5, #T_ba9a1_row0_col8, #T_ba9a1_row1_col2, #T_ba9a1_row1_col9, #T_ba9a1_row1_col11, #T_ba9a1_row2_col1, #T_ba9a1_row7_col10, #T_ba9a1_row8_col0, #T_ba9a1_row8_col3, #T_ba9a1_row8_col4, #T_ba9a1_row10_col6, #T_ba9a1_row10_col7 {\n",
       "  background-color: #3b4cc0;\n",
       "  color: #f1f1f1;\n",
       "}\n",
       "#T_ba9a1_row0_col6 {\n",
       "  background-color: #516ddb;\n",
       "  color: #f1f1f1;\n",
       "}\n",
       "#T_ba9a1_row0_col7 {\n",
       "  background-color: #f18d6f;\n",
       "  color: #f1f1f1;\n",
       "}\n",
       "#T_ba9a1_row0_col9, #T_ba9a1_row3_col8 {\n",
       "  background-color: #b1cbfc;\n",
       "  color: #000000;\n",
       "}\n",
       "#T_ba9a1_row0_col10, #T_ba9a1_row3_col11 {\n",
       "  background-color: #9bbcff;\n",
       "  color: #000000;\n",
       "}\n",
       "#T_ba9a1_row0_col11, #T_ba9a1_row2_col4, #T_ba9a1_row7_col1, #T_ba9a1_row7_col4, #T_ba9a1_row10_col0 {\n",
       "  background-color: #b6cefa;\n",
       "  color: #000000;\n",
       "}\n",
       "#T_ba9a1_row1_col0, #T_ba9a1_row3_col4, #T_ba9a1_row5_col3 {\n",
       "  background-color: #8db0fe;\n",
       "  color: #000000;\n",
       "}\n",
       "#T_ba9a1_row1_col3, #T_ba9a1_row2_col5 {\n",
       "  background-color: #536edd;\n",
       "  color: #f1f1f1;\n",
       "}\n",
       "#T_ba9a1_row1_col4 {\n",
       "  background-color: #90b2fe;\n",
       "  color: #000000;\n",
       "}\n",
       "#T_ba9a1_row1_col5 {\n",
       "  background-color: #6180e9;\n",
       "  color: #f1f1f1;\n",
       "}\n",
       "#T_ba9a1_row1_col6 {\n",
       "  background-color: #86a9fc;\n",
       "  color: #f1f1f1;\n",
       "}\n",
       "#T_ba9a1_row1_col7 {\n",
       "  background-color: #aec9fc;\n",
       "  color: #000000;\n",
       "}\n",
       "#T_ba9a1_row1_col8 {\n",
       "  background-color: #e8d6cc;\n",
       "  color: #000000;\n",
       "}\n",
       "#T_ba9a1_row1_col10 {\n",
       "  background-color: #7a9df8;\n",
       "  color: #f1f1f1;\n",
       "}\n",
       "#T_ba9a1_row2_col0 {\n",
       "  background-color: #ec8165;\n",
       "  color: #f1f1f1;\n",
       "}\n",
       "#T_ba9a1_row2_col3, #T_ba9a1_row3_col9, #T_ba9a1_row5_col4, #T_ba9a1_row11_col7 {\n",
       "  background-color: #80a3fa;\n",
       "  color: #f1f1f1;\n",
       "}\n",
       "#T_ba9a1_row2_col6, #T_ba9a1_row7_col8 {\n",
       "  background-color: #7b9ff9;\n",
       "  color: #f1f1f1;\n",
       "}\n",
       "#T_ba9a1_row2_col7 {\n",
       "  background-color: #eed0c0;\n",
       "  color: #000000;\n",
       "}\n",
       "#T_ba9a1_row2_col8, #T_ba9a1_row9_col3 {\n",
       "  background-color: #5470de;\n",
       "  color: #f1f1f1;\n",
       "}\n",
       "#T_ba9a1_row2_col9 {\n",
       "  background-color: #d1dae9;\n",
       "  color: #000000;\n",
       "}\n",
       "#T_ba9a1_row2_col10, #T_ba9a1_row6_col1, #T_ba9a1_row7_col3 {\n",
       "  background-color: #c1d4f4;\n",
       "  color: #000000;\n",
       "}\n",
       "#T_ba9a1_row2_col11 {\n",
       "  background-color: #cdd9ec;\n",
       "  color: #000000;\n",
       "}\n",
       "#T_ba9a1_row3_col0 {\n",
       "  background-color: #d6dce4;\n",
       "  color: #000000;\n",
       "}\n",
       "#T_ba9a1_row3_col1 {\n",
       "  background-color: #b2ccfb;\n",
       "  color: #000000;\n",
       "}\n",
       "#T_ba9a1_row3_col2, #T_ba9a1_row5_col8 {\n",
       "  background-color: #cedaeb;\n",
       "  color: #000000;\n",
       "}\n",
       "#T_ba9a1_row3_col5 {\n",
       "  background-color: #9dbdff;\n",
       "  color: #000000;\n",
       "}\n",
       "#T_ba9a1_row3_col6, #T_ba9a1_row6_col0 {\n",
       "  background-color: #abc8fd;\n",
       "  color: #000000;\n",
       "}\n",
       "#T_ba9a1_row3_col7 {\n",
       "  background-color: #edd2c3;\n",
       "  color: #000000;\n",
       "}\n",
       "#T_ba9a1_row3_col10 {\n",
       "  background-color: #b3cdfb;\n",
       "  color: #000000;\n",
       "}\n",
       "#T_ba9a1_row4_col0, #T_ba9a1_row9_col11 {\n",
       "  background-color: #d3dbe7;\n",
       "  color: #000000;\n",
       "}\n",
       "#T_ba9a1_row4_col1 {\n",
       "  background-color: #bfd3f6;\n",
       "  color: #000000;\n",
       "}\n",
       "#T_ba9a1_row4_col2 {\n",
       "  background-color: #d9dce1;\n",
       "  color: #000000;\n",
       "}\n",
       "#T_ba9a1_row4_col3 {\n",
       "  background-color: #6384eb;\n",
       "  color: #f1f1f1;\n",
       "}\n",
       "#T_ba9a1_row4_col5 {\n",
       "  background-color: #6687ed;\n",
       "  color: #f1f1f1;\n",
       "}\n",
       "#T_ba9a1_row4_col6 {\n",
       "  background-color: #7ea1fa;\n",
       "  color: #f1f1f1;\n",
       "}\n",
       "#T_ba9a1_row4_col7 {\n",
       "  background-color: #d4dbe6;\n",
       "  color: #000000;\n",
       "}\n",
       "#T_ba9a1_row4_col8, #T_ba9a1_row5_col9, #T_ba9a1_row6_col4 {\n",
       "  background-color: #8caffe;\n",
       "  color: #000000;\n",
       "}\n",
       "#T_ba9a1_row4_col9, #T_ba9a1_row9_col4, #T_ba9a1_row11_col2 {\n",
       "  background-color: #dddcdc;\n",
       "  color: #000000;\n",
       "}\n",
       "#T_ba9a1_row5_col0 {\n",
       "  background-color: #a3c2fe;\n",
       "  color: #000000;\n",
       "}\n",
       "#T_ba9a1_row5_col1 {\n",
       "  background-color: #afcafc;\n",
       "  color: #000000;\n",
       "}\n",
       "#T_ba9a1_row5_col2, #T_ba9a1_row5_col7 {\n",
       "  background-color: #a5c3fe;\n",
       "  color: #000000;\n",
       "}\n",
       "#T_ba9a1_row5_col6 {\n",
       "  background-color: #f6a385;\n",
       "  color: #000000;\n",
       "}\n",
       "#T_ba9a1_row5_col10, #T_ba9a1_row9_col8 {\n",
       "  background-color: #9abbff;\n",
       "  color: #000000;\n",
       "}\n",
       "#T_ba9a1_row5_col11 {\n",
       "  background-color: #8badfd;\n",
       "  color: #000000;\n",
       "}\n",
       "#T_ba9a1_row6_col2 {\n",
       "  background-color: #b9d0f9;\n",
       "  color: #000000;\n",
       "}\n",
       "#T_ba9a1_row6_col3 {\n",
       "  background-color: #93b5fe;\n",
       "  color: #000000;\n",
       "}\n",
       "#T_ba9a1_row6_col5 {\n",
       "  background-color: #f7a889;\n",
       "  color: #000000;\n",
       "}\n",
       "#T_ba9a1_row6_col7 {\n",
       "  background-color: #bad0f8;\n",
       "  color: #000000;\n",
       "}\n",
       "#T_ba9a1_row6_col8 {\n",
       "  background-color: #b5cdfa;\n",
       "  color: #000000;\n",
       "}\n",
       "#T_ba9a1_row6_col9, #T_ba9a1_row8_col11 {\n",
       "  background-color: #89acfd;\n",
       "  color: #000000;\n",
       "}\n",
       "#T_ba9a1_row6_col10, #T_ba9a1_row8_col5 {\n",
       "  background-color: #799cf8;\n",
       "  color: #f1f1f1;\n",
       "}\n",
       "#T_ba9a1_row6_col11 {\n",
       "  background-color: #688aef;\n",
       "  color: #f1f1f1;\n",
       "}\n",
       "#T_ba9a1_row7_col0 {\n",
       "  background-color: #ed8366;\n",
       "  color: #f1f1f1;\n",
       "}\n",
       "#T_ba9a1_row7_col2 {\n",
       "  background-color: #f1cdba;\n",
       "  color: #000000;\n",
       "}\n",
       "#T_ba9a1_row7_col5, #T_ba9a1_row8_col6 {\n",
       "  background-color: #5e7de7;\n",
       "  color: #f1f1f1;\n",
       "}\n",
       "#T_ba9a1_row7_col6 {\n",
       "  background-color: #85a8fc;\n",
       "  color: #f1f1f1;\n",
       "}\n",
       "#T_ba9a1_row7_col9 {\n",
       "  background-color: #a7c5fe;\n",
       "  color: #000000;\n",
       "}\n",
       "#T_ba9a1_row7_col11 {\n",
       "  background-color: #6b8df0;\n",
       "  color: #f1f1f1;\n",
       "}\n",
       "#T_ba9a1_row8_col1 {\n",
       "  background-color: #dedcdb;\n",
       "  color: #000000;\n",
       "}\n",
       "#T_ba9a1_row8_col2 {\n",
       "  background-color: #3c4ec2;\n",
       "  color: #f1f1f1;\n",
       "}\n",
       "#T_ba9a1_row8_col7, #T_ba9a1_row11_col1 {\n",
       "  background-color: #5a78e4;\n",
       "  color: #f1f1f1;\n",
       "}\n",
       "#T_ba9a1_row8_col9 {\n",
       "  background-color: #4a63d3;\n",
       "  color: #f1f1f1;\n",
       "}\n",
       "#T_ba9a1_row8_col10 {\n",
       "  background-color: #d5dbe5;\n",
       "  color: #000000;\n",
       "}\n",
       "#T_ba9a1_row9_col0 {\n",
       "  background-color: #e0dbd8;\n",
       "  color: #000000;\n",
       "}\n",
       "#T_ba9a1_row9_col2 {\n",
       "  background-color: #ead4c8;\n",
       "  color: #000000;\n",
       "}\n",
       "#T_ba9a1_row9_col5 {\n",
       "  background-color: #7396f5;\n",
       "  color: #f1f1f1;\n",
       "}\n",
       "#T_ba9a1_row9_col6 {\n",
       "  background-color: #7da0f9;\n",
       "  color: #f1f1f1;\n",
       "}\n",
       "#T_ba9a1_row9_col7 {\n",
       "  background-color: #cad8ef;\n",
       "  color: #000000;\n",
       "}\n",
       "#T_ba9a1_row9_col10 {\n",
       "  background-color: #bed2f6;\n",
       "  color: #000000;\n",
       "}\n",
       "#T_ba9a1_row10_col1 {\n",
       "  background-color: #84a7fc;\n",
       "  color: #f1f1f1;\n",
       "}\n",
       "#T_ba9a1_row10_col2 {\n",
       "  background-color: #c9d7f0;\n",
       "  color: #000000;\n",
       "}\n",
       "#T_ba9a1_row10_col3 {\n",
       "  background-color: #5f7fe8;\n",
       "  color: #f1f1f1;\n",
       "}\n",
       "#T_ba9a1_row10_col4 {\n",
       "  background-color: #445acc;\n",
       "  color: #f1f1f1;\n",
       "}\n",
       "#T_ba9a1_row10_col5 {\n",
       "  background-color: #506bda;\n",
       "  color: #f1f1f1;\n",
       "}\n",
       "#T_ba9a1_row10_col8 {\n",
       "  background-color: #e4d9d2;\n",
       "  color: #000000;\n",
       "}\n",
       "#T_ba9a1_row10_col9 {\n",
       "  background-color: #97b8ff;\n",
       "  color: #000000;\n",
       "}\n",
       "#T_ba9a1_row10_col11 {\n",
       "  background-color: #f4c5ad;\n",
       "  color: #000000;\n",
       "}\n",
       "#T_ba9a1_row11_col0 {\n",
       "  background-color: #d7dce3;\n",
       "  color: #000000;\n",
       "}\n",
       "#T_ba9a1_row11_col3 {\n",
       "  background-color: #5673e0;\n",
       "  color: #f1f1f1;\n",
       "}\n",
       "#T_ba9a1_row11_col4 {\n",
       "  background-color: #5b7ae5;\n",
       "  color: #f1f1f1;\n",
       "}\n",
       "#T_ba9a1_row11_col5 {\n",
       "  background-color: #5572df;\n",
       "  color: #f1f1f1;\n",
       "}\n",
       "#T_ba9a1_row11_col6 {\n",
       "  background-color: #3f53c6;\n",
       "  color: #f1f1f1;\n",
       "}\n",
       "#T_ba9a1_row11_col8 {\n",
       "  background-color: #b7cff9;\n",
       "  color: #000000;\n",
       "}\n",
       "#T_ba9a1_row11_col9 {\n",
       "  background-color: #c3d5f4;\n",
       "  color: #000000;\n",
       "}\n",
       "#T_ba9a1_row11_col10 {\n",
       "  background-color: #f6bda2;\n",
       "  color: #000000;\n",
       "}\n",
       "</style>\n",
       "<table id=\"T_ba9a1\">\n",
       "  <thead>\n",
       "    <tr>\n",
       "      <th class=\"blank level0\" >&nbsp;</th>\n",
       "      <th id=\"T_ba9a1_level0_col0\" class=\"col_heading level0 col0\" >fixed acidity</th>\n",
       "      <th id=\"T_ba9a1_level0_col1\" class=\"col_heading level0 col1\" >volatile acidity</th>\n",
       "      <th id=\"T_ba9a1_level0_col2\" class=\"col_heading level0 col2\" >citric acid</th>\n",
       "      <th id=\"T_ba9a1_level0_col3\" class=\"col_heading level0 col3\" >residual sugar</th>\n",
       "      <th id=\"T_ba9a1_level0_col4\" class=\"col_heading level0 col4\" >chlorides</th>\n",
       "      <th id=\"T_ba9a1_level0_col5\" class=\"col_heading level0 col5\" >free sulfur dioxide</th>\n",
       "      <th id=\"T_ba9a1_level0_col6\" class=\"col_heading level0 col6\" >total sulfur dioxide</th>\n",
       "      <th id=\"T_ba9a1_level0_col7\" class=\"col_heading level0 col7\" >density</th>\n",
       "      <th id=\"T_ba9a1_level0_col8\" class=\"col_heading level0 col8\" >pH</th>\n",
       "      <th id=\"T_ba9a1_level0_col9\" class=\"col_heading level0 col9\" >sulphates</th>\n",
       "      <th id=\"T_ba9a1_level0_col10\" class=\"col_heading level0 col10\" >alcohol</th>\n",
       "      <th id=\"T_ba9a1_level0_col11\" class=\"col_heading level0 col11\" >quality</th>\n",
       "    </tr>\n",
       "  </thead>\n",
       "  <tbody>\n",
       "    <tr>\n",
       "      <th id=\"T_ba9a1_level0_row0\" class=\"row_heading level0 row0\" >fixed acidity</th>\n",
       "      <td id=\"T_ba9a1_row0_col0\" class=\"data row0 col0\" >1.000000</td>\n",
       "      <td id=\"T_ba9a1_row0_col1\" class=\"data row0 col1\" >-0.256131</td>\n",
       "      <td id=\"T_ba9a1_row0_col2\" class=\"data row0 col2\" >0.671703</td>\n",
       "      <td id=\"T_ba9a1_row0_col3\" class=\"data row0 col3\" >0.114777</td>\n",
       "      <td id=\"T_ba9a1_row0_col4\" class=\"data row0 col4\" >0.093705</td>\n",
       "      <td id=\"T_ba9a1_row0_col5\" class=\"data row0 col5\" >-0.153794</td>\n",
       "      <td id=\"T_ba9a1_row0_col6\" class=\"data row0 col6\" >-0.113181</td>\n",
       "      <td id=\"T_ba9a1_row0_col7\" class=\"data row0 col7\" >0.668047</td>\n",
       "      <td id=\"T_ba9a1_row0_col8\" class=\"data row0 col8\" >-0.682978</td>\n",
       "      <td id=\"T_ba9a1_row0_col9\" class=\"data row0 col9\" >0.183006</td>\n",
       "      <td id=\"T_ba9a1_row0_col10\" class=\"data row0 col10\" >-0.061668</td>\n",
       "      <td id=\"T_ba9a1_row0_col11\" class=\"data row0 col11\" >0.124052</td>\n",
       "    </tr>\n",
       "    <tr>\n",
       "      <th id=\"T_ba9a1_level0_row1\" class=\"row_heading level0 row1\" >volatile acidity</th>\n",
       "      <td id=\"T_ba9a1_row1_col0\" class=\"data row1 col0\" >-0.256131</td>\n",
       "      <td id=\"T_ba9a1_row1_col1\" class=\"data row1 col1\" >1.000000</td>\n",
       "      <td id=\"T_ba9a1_row1_col2\" class=\"data row1 col2\" >-0.552496</td>\n",
       "      <td id=\"T_ba9a1_row1_col3\" class=\"data row1 col3\" >0.001918</td>\n",
       "      <td id=\"T_ba9a1_row1_col4\" class=\"data row1 col4\" >0.061298</td>\n",
       "      <td id=\"T_ba9a1_row1_col5\" class=\"data row1 col5\" >-0.010504</td>\n",
       "      <td id=\"T_ba9a1_row1_col6\" class=\"data row1 col6\" >0.076470</td>\n",
       "      <td id=\"T_ba9a1_row1_col7\" class=\"data row1 col7\" >0.022026</td>\n",
       "      <td id=\"T_ba9a1_row1_col8\" class=\"data row1 col8\" >0.234937</td>\n",
       "      <td id=\"T_ba9a1_row1_col9\" class=\"data row1 col9\" >-0.260987</td>\n",
       "      <td id=\"T_ba9a1_row1_col10\" class=\"data row1 col10\" >-0.202288</td>\n",
       "      <td id=\"T_ba9a1_row1_col11\" class=\"data row1 col11\" >-0.390558</td>\n",
       "    </tr>\n",
       "    <tr>\n",
       "      <th id=\"T_ba9a1_level0_row2\" class=\"row_heading level0 row2\" >citric acid</th>\n",
       "      <td id=\"T_ba9a1_row2_col0\" class=\"data row2 col0\" >0.671703</td>\n",
       "      <td id=\"T_ba9a1_row2_col1\" class=\"data row2 col1\" >-0.552496</td>\n",
       "      <td id=\"T_ba9a1_row2_col2\" class=\"data row2 col2\" >1.000000</td>\n",
       "      <td id=\"T_ba9a1_row2_col3\" class=\"data row2 col3\" >0.143577</td>\n",
       "      <td id=\"T_ba9a1_row2_col4\" class=\"data row2 col4\" >0.203823</td>\n",
       "      <td id=\"T_ba9a1_row2_col5\" class=\"data row2 col5\" >-0.060978</td>\n",
       "      <td id=\"T_ba9a1_row2_col6\" class=\"data row2 col6\" >0.035533</td>\n",
       "      <td id=\"T_ba9a1_row2_col7\" class=\"data row2 col7\" >0.364947</td>\n",
       "      <td id=\"T_ba9a1_row2_col8\" class=\"data row2 col8\" >-0.541904</td>\n",
       "      <td id=\"T_ba9a1_row2_col9\" class=\"data row2 col9\" >0.312770</td>\n",
       "      <td id=\"T_ba9a1_row2_col10\" class=\"data row2 col10\" >0.109903</td>\n",
       "      <td id=\"T_ba9a1_row2_col11\" class=\"data row2 col11\" >0.226373</td>\n",
       "    </tr>\n",
       "    <tr>\n",
       "      <th id=\"T_ba9a1_level0_row3\" class=\"row_heading level0 row3\" >residual sugar</th>\n",
       "      <td id=\"T_ba9a1_row3_col0\" class=\"data row3 col0\" >0.114777</td>\n",
       "      <td id=\"T_ba9a1_row3_col1\" class=\"data row3 col1\" >0.001918</td>\n",
       "      <td id=\"T_ba9a1_row3_col2\" class=\"data row3 col2\" >0.143577</td>\n",
       "      <td id=\"T_ba9a1_row3_col3\" class=\"data row3 col3\" >1.000000</td>\n",
       "      <td id=\"T_ba9a1_row3_col4\" class=\"data row3 col4\" >0.055610</td>\n",
       "      <td id=\"T_ba9a1_row3_col5\" class=\"data row3 col5\" >0.187049</td>\n",
       "      <td id=\"T_ba9a1_row3_col6\" class=\"data row3 col6\" >0.203028</td>\n",
       "      <td id=\"T_ba9a1_row3_col7\" class=\"data row3 col7\" >0.355283</td>\n",
       "      <td id=\"T_ba9a1_row3_col8\" class=\"data row3 col8\" >-0.085652</td>\n",
       "      <td id=\"T_ba9a1_row3_col9\" class=\"data row3 col9\" >0.005527</td>\n",
       "      <td id=\"T_ba9a1_row3_col10\" class=\"data row3 col10\" >0.042075</td>\n",
       "      <td id=\"T_ba9a1_row3_col11\" class=\"data row3 col11\" >0.013732</td>\n",
       "    </tr>\n",
       "    <tr>\n",
       "      <th id=\"T_ba9a1_level0_row4\" class=\"row_heading level0 row4\" >chlorides</th>\n",
       "      <td id=\"T_ba9a1_row4_col0\" class=\"data row4 col0\" >0.093705</td>\n",
       "      <td id=\"T_ba9a1_row4_col1\" class=\"data row4 col1\" >0.061298</td>\n",
       "      <td id=\"T_ba9a1_row4_col2\" class=\"data row4 col2\" >0.203823</td>\n",
       "      <td id=\"T_ba9a1_row4_col3\" class=\"data row4 col3\" >0.055610</td>\n",
       "      <td id=\"T_ba9a1_row4_col4\" class=\"data row4 col4\" >1.000000</td>\n",
       "      <td id=\"T_ba9a1_row4_col5\" class=\"data row4 col5\" >0.005562</td>\n",
       "      <td id=\"T_ba9a1_row4_col6\" class=\"data row4 col6\" >0.047400</td>\n",
       "      <td id=\"T_ba9a1_row4_col7\" class=\"data row4 col7\" >0.200632</td>\n",
       "      <td id=\"T_ba9a1_row4_col8\" class=\"data row4 col8\" >-0.265026</td>\n",
       "      <td id=\"T_ba9a1_row4_col9\" class=\"data row4 col9\" >0.371260</td>\n",
       "      <td id=\"T_ba9a1_row4_col10\" class=\"data row4 col10\" >-0.221141</td>\n",
       "      <td id=\"T_ba9a1_row4_col11\" class=\"data row4 col11\" >-0.128907</td>\n",
       "    </tr>\n",
       "    <tr>\n",
       "      <th id=\"T_ba9a1_level0_row5\" class=\"row_heading level0 row5\" >free sulfur dioxide</th>\n",
       "      <td id=\"T_ba9a1_row5_col0\" class=\"data row5 col0\" >-0.153794</td>\n",
       "      <td id=\"T_ba9a1_row5_col1\" class=\"data row5 col1\" >-0.010504</td>\n",
       "      <td id=\"T_ba9a1_row5_col2\" class=\"data row5 col2\" >-0.060978</td>\n",
       "      <td id=\"T_ba9a1_row5_col3\" class=\"data row5 col3\" >0.187049</td>\n",
       "      <td id=\"T_ba9a1_row5_col4\" class=\"data row5 col4\" >0.005562</td>\n",
       "      <td id=\"T_ba9a1_row5_col5\" class=\"data row5 col5\" >1.000000</td>\n",
       "      <td id=\"T_ba9a1_row5_col6\" class=\"data row5 col6\" >0.667666</td>\n",
       "      <td id=\"T_ba9a1_row5_col7\" class=\"data row5 col7\" >-0.021946</td>\n",
       "      <td id=\"T_ba9a1_row5_col8\" class=\"data row5 col8\" >0.070377</td>\n",
       "      <td id=\"T_ba9a1_row5_col9\" class=\"data row5 col9\" >0.051658</td>\n",
       "      <td id=\"T_ba9a1_row5_col10\" class=\"data row5 col10\" >-0.069408</td>\n",
       "      <td id=\"T_ba9a1_row5_col11\" class=\"data row5 col11\" >-0.050656</td>\n",
       "    </tr>\n",
       "    <tr>\n",
       "      <th id=\"T_ba9a1_level0_row6\" class=\"row_heading level0 row6\" >total sulfur dioxide</th>\n",
       "      <td id=\"T_ba9a1_row6_col0\" class=\"data row6 col0\" >-0.113181</td>\n",
       "      <td id=\"T_ba9a1_row6_col1\" class=\"data row6 col1\" >0.076470</td>\n",
       "      <td id=\"T_ba9a1_row6_col2\" class=\"data row6 col2\" >0.035533</td>\n",
       "      <td id=\"T_ba9a1_row6_col3\" class=\"data row6 col3\" >0.203028</td>\n",
       "      <td id=\"T_ba9a1_row6_col4\" class=\"data row6 col4\" >0.047400</td>\n",
       "      <td id=\"T_ba9a1_row6_col5\" class=\"data row6 col5\" >0.667666</td>\n",
       "      <td id=\"T_ba9a1_row6_col6\" class=\"data row6 col6\" >1.000000</td>\n",
       "      <td id=\"T_ba9a1_row6_col7\" class=\"data row6 col7\" >0.071269</td>\n",
       "      <td id=\"T_ba9a1_row6_col8\" class=\"data row6 col8\" >-0.066495</td>\n",
       "      <td id=\"T_ba9a1_row6_col9\" class=\"data row6 col9\" >0.042947</td>\n",
       "      <td id=\"T_ba9a1_row6_col10\" class=\"data row6 col10\" >-0.205654</td>\n",
       "      <td id=\"T_ba9a1_row6_col11\" class=\"data row6 col11\" >-0.185100</td>\n",
       "    </tr>\n",
       "    <tr>\n",
       "      <th id=\"T_ba9a1_level0_row7\" class=\"row_heading level0 row7\" >density</th>\n",
       "      <td id=\"T_ba9a1_row7_col0\" class=\"data row7 col0\" >0.668047</td>\n",
       "      <td id=\"T_ba9a1_row7_col1\" class=\"data row7 col1\" >0.022026</td>\n",
       "      <td id=\"T_ba9a1_row7_col2\" class=\"data row7 col2\" >0.364947</td>\n",
       "      <td id=\"T_ba9a1_row7_col3\" class=\"data row7 col3\" >0.355283</td>\n",
       "      <td id=\"T_ba9a1_row7_col4\" class=\"data row7 col4\" >0.200632</td>\n",
       "      <td id=\"T_ba9a1_row7_col5\" class=\"data row7 col5\" >-0.021946</td>\n",
       "      <td id=\"T_ba9a1_row7_col6\" class=\"data row7 col6\" >0.071269</td>\n",
       "      <td id=\"T_ba9a1_row7_col7\" class=\"data row7 col7\" >1.000000</td>\n",
       "      <td id=\"T_ba9a1_row7_col8\" class=\"data row7 col8\" >-0.341699</td>\n",
       "      <td id=\"T_ba9a1_row7_col9\" class=\"data row7 col9\" >0.148506</td>\n",
       "      <td id=\"T_ba9a1_row7_col10\" class=\"data row7 col10\" >-0.496180</td>\n",
       "      <td id=\"T_ba9a1_row7_col11\" class=\"data row7 col11\" >-0.174919</td>\n",
       "    </tr>\n",
       "    <tr>\n",
       "      <th id=\"T_ba9a1_level0_row8\" class=\"row_heading level0 row8\" >pH</th>\n",
       "      <td id=\"T_ba9a1_row8_col0\" class=\"data row8 col0\" >-0.682978</td>\n",
       "      <td id=\"T_ba9a1_row8_col1\" class=\"data row8 col1\" >0.234937</td>\n",
       "      <td id=\"T_ba9a1_row8_col2\" class=\"data row8 col2\" >-0.541904</td>\n",
       "      <td id=\"T_ba9a1_row8_col3\" class=\"data row8 col3\" >-0.085652</td>\n",
       "      <td id=\"T_ba9a1_row8_col4\" class=\"data row8 col4\" >-0.265026</td>\n",
       "      <td id=\"T_ba9a1_row8_col5\" class=\"data row8 col5\" >0.070377</td>\n",
       "      <td id=\"T_ba9a1_row8_col6\" class=\"data row8 col6\" >-0.066495</td>\n",
       "      <td id=\"T_ba9a1_row8_col7\" class=\"data row8 col7\" >-0.341699</td>\n",
       "      <td id=\"T_ba9a1_row8_col8\" class=\"data row8 col8\" >1.000000</td>\n",
       "      <td id=\"T_ba9a1_row8_col9\" class=\"data row8 col9\" >-0.196648</td>\n",
       "      <td id=\"T_ba9a1_row8_col10\" class=\"data row8 col10\" >0.205633</td>\n",
       "      <td id=\"T_ba9a1_row8_col11\" class=\"data row8 col11\" >-0.057731</td>\n",
       "    </tr>\n",
       "    <tr>\n",
       "      <th id=\"T_ba9a1_level0_row9\" class=\"row_heading level0 row9\" >sulphates</th>\n",
       "      <td id=\"T_ba9a1_row9_col0\" class=\"data row9 col0\" >0.183006</td>\n",
       "      <td id=\"T_ba9a1_row9_col1\" class=\"data row9 col1\" >-0.260987</td>\n",
       "      <td id=\"T_ba9a1_row9_col2\" class=\"data row9 col2\" >0.312770</td>\n",
       "      <td id=\"T_ba9a1_row9_col3\" class=\"data row9 col3\" >0.005527</td>\n",
       "      <td id=\"T_ba9a1_row9_col4\" class=\"data row9 col4\" >0.371260</td>\n",
       "      <td id=\"T_ba9a1_row9_col5\" class=\"data row9 col5\" >0.051658</td>\n",
       "      <td id=\"T_ba9a1_row9_col6\" class=\"data row9 col6\" >0.042947</td>\n",
       "      <td id=\"T_ba9a1_row9_col7\" class=\"data row9 col7\" >0.148506</td>\n",
       "      <td id=\"T_ba9a1_row9_col8\" class=\"data row9 col8\" >-0.196648</td>\n",
       "      <td id=\"T_ba9a1_row9_col9\" class=\"data row9 col9\" >1.000000</td>\n",
       "      <td id=\"T_ba9a1_row9_col10\" class=\"data row9 col10\" >0.093595</td>\n",
       "      <td id=\"T_ba9a1_row9_col11\" class=\"data row9 col11\" >0.251397</td>\n",
       "    </tr>\n",
       "    <tr>\n",
       "      <th id=\"T_ba9a1_level0_row10\" class=\"row_heading level0 row10\" >alcohol</th>\n",
       "      <td id=\"T_ba9a1_row10_col0\" class=\"data row10 col0\" >-0.061668</td>\n",
       "      <td id=\"T_ba9a1_row10_col1\" class=\"data row10 col1\" >-0.202288</td>\n",
       "      <td id=\"T_ba9a1_row10_col2\" class=\"data row10 col2\" >0.109903</td>\n",
       "      <td id=\"T_ba9a1_row10_col3\" class=\"data row10 col3\" >0.042075</td>\n",
       "      <td id=\"T_ba9a1_row10_col4\" class=\"data row10 col4\" >-0.221141</td>\n",
       "      <td id=\"T_ba9a1_row10_col5\" class=\"data row10 col5\" >-0.069408</td>\n",
       "      <td id=\"T_ba9a1_row10_col6\" class=\"data row10 col6\" >-0.205654</td>\n",
       "      <td id=\"T_ba9a1_row10_col7\" class=\"data row10 col7\" >-0.496180</td>\n",
       "      <td id=\"T_ba9a1_row10_col8\" class=\"data row10 col8\" >0.205633</td>\n",
       "      <td id=\"T_ba9a1_row10_col9\" class=\"data row10 col9\" >0.093595</td>\n",
       "      <td id=\"T_ba9a1_row10_col10\" class=\"data row10 col10\" >1.000000</td>\n",
       "      <td id=\"T_ba9a1_row10_col11\" class=\"data row10 col11\" >0.476166</td>\n",
       "    </tr>\n",
       "    <tr>\n",
       "      <th id=\"T_ba9a1_level0_row11\" class=\"row_heading level0 row11\" >quality</th>\n",
       "      <td id=\"T_ba9a1_row11_col0\" class=\"data row11 col0\" >0.124052</td>\n",
       "      <td id=\"T_ba9a1_row11_col1\" class=\"data row11 col1\" >-0.390558</td>\n",
       "      <td id=\"T_ba9a1_row11_col2\" class=\"data row11 col2\" >0.226373</td>\n",
       "      <td id=\"T_ba9a1_row11_col3\" class=\"data row11 col3\" >0.013732</td>\n",
       "      <td id=\"T_ba9a1_row11_col4\" class=\"data row11 col4\" >-0.128907</td>\n",
       "      <td id=\"T_ba9a1_row11_col5\" class=\"data row11 col5\" >-0.050656</td>\n",
       "      <td id=\"T_ba9a1_row11_col6\" class=\"data row11 col6\" >-0.185100</td>\n",
       "      <td id=\"T_ba9a1_row11_col7\" class=\"data row11 col7\" >-0.174919</td>\n",
       "      <td id=\"T_ba9a1_row11_col8\" class=\"data row11 col8\" >-0.057731</td>\n",
       "      <td id=\"T_ba9a1_row11_col9\" class=\"data row11 col9\" >0.251397</td>\n",
       "      <td id=\"T_ba9a1_row11_col10\" class=\"data row11 col10\" >0.476166</td>\n",
       "      <td id=\"T_ba9a1_row11_col11\" class=\"data row11 col11\" >1.000000</td>\n",
       "    </tr>\n",
       "  </tbody>\n",
       "</table>\n"
      ],
      "text/plain": [
       "<pandas.io.formats.style.Styler at 0x2ea069e63d0>"
      ]
     },
     "execution_count": 78,
     "metadata": {},
     "output_type": "execute_result"
    }
   ],
   "source": [
    "print('Another view of correlations among features:\\n')\n",
    "Wine.corr().style.background_gradient(cmap=\"coolwarm\")"
   ]
  },
  {
   "cell_type": "code",
   "execution_count": 79,
   "id": "3f3cfdd8",
   "metadata": {},
   "outputs": [],
   "source": [
    "#From the above plots and values we observe:\n",
    "\n",
    "#volatile acidity, \n",
    "#chlorides and ph are negatively correlated to quality \n",
    "#— hence our statement was right that quality increases with decrease in value of these features;\n",
    "#and vice versa for other features.\n",
    "#free sulfur dioxide and total sulfur dioxide are highly correlated to each other with correlation of 0.67.\n",
    "#There are many features with correlation < 0.5 to quality, and may be removed from the dataset."
   ]
  },
  {
   "cell_type": "code",
   "execution_count": 80,
   "id": "66d2c2f1",
   "metadata": {},
   "outputs": [],
   "source": [
    "#We will first handle this problem with classification algorithm."
   ]
  },
  {
   "cell_type": "code",
   "execution_count": 81,
   "id": "6f714eb2",
   "metadata": {},
   "outputs": [],
   "source": [
    "#Dividing quality of wine in two buckets, ie. Good wine and Bad wine, and on the basis of this we will give our final result."
   ]
  },
  {
   "cell_type": "code",
   "execution_count": 82,
   "id": "9b1ac044",
   "metadata": {},
   "outputs": [
    {
     "data": {
      "text/html": [
       "<div>\n",
       "<style scoped>\n",
       "    .dataframe tbody tr th:only-of-type {\n",
       "        vertical-align: middle;\n",
       "    }\n",
       "\n",
       "    .dataframe tbody tr th {\n",
       "        vertical-align: top;\n",
       "    }\n",
       "\n",
       "    .dataframe thead th {\n",
       "        text-align: right;\n",
       "    }\n",
       "</style>\n",
       "<table border=\"1\" class=\"dataframe\">\n",
       "  <thead>\n",
       "    <tr style=\"text-align: right;\">\n",
       "      <th></th>\n",
       "      <th>fixed acidity</th>\n",
       "      <th>volatile acidity</th>\n",
       "      <th>citric acid</th>\n",
       "      <th>residual sugar</th>\n",
       "      <th>chlorides</th>\n",
       "      <th>free sulfur dioxide</th>\n",
       "      <th>total sulfur dioxide</th>\n",
       "      <th>density</th>\n",
       "      <th>pH</th>\n",
       "      <th>sulphates</th>\n",
       "      <th>alcohol</th>\n",
       "      <th>quality</th>\n",
       "    </tr>\n",
       "  </thead>\n",
       "  <tbody>\n",
       "    <tr>\n",
       "      <th>0</th>\n",
       "      <td>7.4</td>\n",
       "      <td>0.70</td>\n",
       "      <td>0.00</td>\n",
       "      <td>1.9</td>\n",
       "      <td>0.076</td>\n",
       "      <td>11.0</td>\n",
       "      <td>34.0</td>\n",
       "      <td>0.9978</td>\n",
       "      <td>3.51</td>\n",
       "      <td>0.56</td>\n",
       "      <td>9.4</td>\n",
       "      <td>bad</td>\n",
       "    </tr>\n",
       "    <tr>\n",
       "      <th>1</th>\n",
       "      <td>7.8</td>\n",
       "      <td>0.88</td>\n",
       "      <td>0.00</td>\n",
       "      <td>2.6</td>\n",
       "      <td>0.098</td>\n",
       "      <td>25.0</td>\n",
       "      <td>67.0</td>\n",
       "      <td>0.9968</td>\n",
       "      <td>3.20</td>\n",
       "      <td>0.68</td>\n",
       "      <td>9.8</td>\n",
       "      <td>bad</td>\n",
       "    </tr>\n",
       "    <tr>\n",
       "      <th>2</th>\n",
       "      <td>7.8</td>\n",
       "      <td>0.76</td>\n",
       "      <td>0.04</td>\n",
       "      <td>2.3</td>\n",
       "      <td>0.092</td>\n",
       "      <td>15.0</td>\n",
       "      <td>54.0</td>\n",
       "      <td>0.9970</td>\n",
       "      <td>3.26</td>\n",
       "      <td>0.65</td>\n",
       "      <td>9.8</td>\n",
       "      <td>bad</td>\n",
       "    </tr>\n",
       "    <tr>\n",
       "      <th>3</th>\n",
       "      <td>11.2</td>\n",
       "      <td>0.28</td>\n",
       "      <td>0.56</td>\n",
       "      <td>1.9</td>\n",
       "      <td>0.075</td>\n",
       "      <td>17.0</td>\n",
       "      <td>60.0</td>\n",
       "      <td>0.9980</td>\n",
       "      <td>3.16</td>\n",
       "      <td>0.58</td>\n",
       "      <td>9.8</td>\n",
       "      <td>bad</td>\n",
       "    </tr>\n",
       "    <tr>\n",
       "      <th>4</th>\n",
       "      <td>7.4</td>\n",
       "      <td>0.70</td>\n",
       "      <td>0.00</td>\n",
       "      <td>1.9</td>\n",
       "      <td>0.076</td>\n",
       "      <td>11.0</td>\n",
       "      <td>34.0</td>\n",
       "      <td>0.9978</td>\n",
       "      <td>3.51</td>\n",
       "      <td>0.56</td>\n",
       "      <td>9.4</td>\n",
       "      <td>bad</td>\n",
       "    </tr>\n",
       "  </tbody>\n",
       "</table>\n",
       "</div>"
      ],
      "text/plain": [
       "   fixed acidity  volatile acidity  citric acid  residual sugar  chlorides  \\\n",
       "0            7.4              0.70         0.00             1.9      0.076   \n",
       "1            7.8              0.88         0.00             2.6      0.098   \n",
       "2            7.8              0.76         0.04             2.3      0.092   \n",
       "3           11.2              0.28         0.56             1.9      0.075   \n",
       "4            7.4              0.70         0.00             1.9      0.076   \n",
       "\n",
       "   free sulfur dioxide  total sulfur dioxide  density    pH  sulphates  \\\n",
       "0                 11.0                  34.0   0.9978  3.51       0.56   \n",
       "1                 25.0                  67.0   0.9968  3.20       0.68   \n",
       "2                 15.0                  54.0   0.9970  3.26       0.65   \n",
       "3                 17.0                  60.0   0.9980  3.16       0.58   \n",
       "4                 11.0                  34.0   0.9978  3.51       0.56   \n",
       "\n",
       "   alcohol quality  \n",
       "0      9.4     bad  \n",
       "1      9.8     bad  \n",
       "2      9.8     bad  \n",
       "3      9.8     bad  \n",
       "4      9.4     bad  "
      ]
     },
     "execution_count": 82,
     "metadata": {},
     "output_type": "execute_result"
    }
   ],
   "source": [
    "bins = (2, 6.5, 8)\n",
    "group_names = ['bad', 'good']\n",
    "Wine['quality'] = pd.cut(Wine['quality'], bins = bins, labels = group_names)\n",
    "Wine.head()"
   ]
  },
  {
   "cell_type": "code",
   "execution_count": 83,
   "id": "8bf4b007",
   "metadata": {},
   "outputs": [],
   "source": [
    "#From the above code have divided the quality of Wine in two buckets:\n",
    "\n",
    "#Bad Wine : range 2 – 6.5\n",
    "#Good Wine : range 6.5 – 8"
   ]
  },
  {
   "cell_type": "code",
   "execution_count": 84,
   "id": "a99dbe10",
   "metadata": {},
   "outputs": [],
   "source": [
    "#Now we will map the values of bad and good to 0 and 1 respectively,\n",
    "#as machine learning models can perform calculation only on numerical data:"
   ]
  },
  {
   "cell_type": "code",
   "execution_count": 85,
   "id": "7dec3abf",
   "metadata": {},
   "outputs": [
    {
     "data": {
      "text/html": [
       "<div>\n",
       "<style scoped>\n",
       "    .dataframe tbody tr th:only-of-type {\n",
       "        vertical-align: middle;\n",
       "    }\n",
       "\n",
       "    .dataframe tbody tr th {\n",
       "        vertical-align: top;\n",
       "    }\n",
       "\n",
       "    .dataframe thead th {\n",
       "        text-align: right;\n",
       "    }\n",
       "</style>\n",
       "<table border=\"1\" class=\"dataframe\">\n",
       "  <thead>\n",
       "    <tr style=\"text-align: right;\">\n",
       "      <th></th>\n",
       "      <th>fixed acidity</th>\n",
       "      <th>volatile acidity</th>\n",
       "      <th>citric acid</th>\n",
       "      <th>residual sugar</th>\n",
       "      <th>chlorides</th>\n",
       "      <th>free sulfur dioxide</th>\n",
       "      <th>total sulfur dioxide</th>\n",
       "      <th>density</th>\n",
       "      <th>pH</th>\n",
       "      <th>sulphates</th>\n",
       "      <th>alcohol</th>\n",
       "      <th>quality</th>\n",
       "    </tr>\n",
       "  </thead>\n",
       "  <tbody>\n",
       "    <tr>\n",
       "      <th>0</th>\n",
       "      <td>7.4</td>\n",
       "      <td>0.70</td>\n",
       "      <td>0.00</td>\n",
       "      <td>1.9</td>\n",
       "      <td>0.076</td>\n",
       "      <td>11.0</td>\n",
       "      <td>34.0</td>\n",
       "      <td>0.9978</td>\n",
       "      <td>3.51</td>\n",
       "      <td>0.56</td>\n",
       "      <td>9.4</td>\n",
       "      <td>0</td>\n",
       "    </tr>\n",
       "    <tr>\n",
       "      <th>1</th>\n",
       "      <td>7.8</td>\n",
       "      <td>0.88</td>\n",
       "      <td>0.00</td>\n",
       "      <td>2.6</td>\n",
       "      <td>0.098</td>\n",
       "      <td>25.0</td>\n",
       "      <td>67.0</td>\n",
       "      <td>0.9968</td>\n",
       "      <td>3.20</td>\n",
       "      <td>0.68</td>\n",
       "      <td>9.8</td>\n",
       "      <td>0</td>\n",
       "    </tr>\n",
       "    <tr>\n",
       "      <th>2</th>\n",
       "      <td>7.8</td>\n",
       "      <td>0.76</td>\n",
       "      <td>0.04</td>\n",
       "      <td>2.3</td>\n",
       "      <td>0.092</td>\n",
       "      <td>15.0</td>\n",
       "      <td>54.0</td>\n",
       "      <td>0.9970</td>\n",
       "      <td>3.26</td>\n",
       "      <td>0.65</td>\n",
       "      <td>9.8</td>\n",
       "      <td>0</td>\n",
       "    </tr>\n",
       "    <tr>\n",
       "      <th>3</th>\n",
       "      <td>11.2</td>\n",
       "      <td>0.28</td>\n",
       "      <td>0.56</td>\n",
       "      <td>1.9</td>\n",
       "      <td>0.075</td>\n",
       "      <td>17.0</td>\n",
       "      <td>60.0</td>\n",
       "      <td>0.9980</td>\n",
       "      <td>3.16</td>\n",
       "      <td>0.58</td>\n",
       "      <td>9.8</td>\n",
       "      <td>0</td>\n",
       "    </tr>\n",
       "    <tr>\n",
       "      <th>4</th>\n",
       "      <td>7.4</td>\n",
       "      <td>0.70</td>\n",
       "      <td>0.00</td>\n",
       "      <td>1.9</td>\n",
       "      <td>0.076</td>\n",
       "      <td>11.0</td>\n",
       "      <td>34.0</td>\n",
       "      <td>0.9978</td>\n",
       "      <td>3.51</td>\n",
       "      <td>0.56</td>\n",
       "      <td>9.4</td>\n",
       "      <td>0</td>\n",
       "    </tr>\n",
       "    <tr>\n",
       "      <th>5</th>\n",
       "      <td>7.4</td>\n",
       "      <td>0.66</td>\n",
       "      <td>0.00</td>\n",
       "      <td>1.8</td>\n",
       "      <td>0.075</td>\n",
       "      <td>13.0</td>\n",
       "      <td>40.0</td>\n",
       "      <td>0.9978</td>\n",
       "      <td>3.51</td>\n",
       "      <td>0.56</td>\n",
       "      <td>9.4</td>\n",
       "      <td>0</td>\n",
       "    </tr>\n",
       "    <tr>\n",
       "      <th>6</th>\n",
       "      <td>7.9</td>\n",
       "      <td>0.60</td>\n",
       "      <td>0.06</td>\n",
       "      <td>1.6</td>\n",
       "      <td>0.069</td>\n",
       "      <td>15.0</td>\n",
       "      <td>59.0</td>\n",
       "      <td>0.9964</td>\n",
       "      <td>3.30</td>\n",
       "      <td>0.46</td>\n",
       "      <td>9.4</td>\n",
       "      <td>0</td>\n",
       "    </tr>\n",
       "    <tr>\n",
       "      <th>7</th>\n",
       "      <td>7.3</td>\n",
       "      <td>0.65</td>\n",
       "      <td>0.00</td>\n",
       "      <td>1.2</td>\n",
       "      <td>0.065</td>\n",
       "      <td>15.0</td>\n",
       "      <td>21.0</td>\n",
       "      <td>0.9946</td>\n",
       "      <td>3.39</td>\n",
       "      <td>0.47</td>\n",
       "      <td>10.0</td>\n",
       "      <td>1</td>\n",
       "    </tr>\n",
       "    <tr>\n",
       "      <th>8</th>\n",
       "      <td>7.8</td>\n",
       "      <td>0.58</td>\n",
       "      <td>0.02</td>\n",
       "      <td>2.0</td>\n",
       "      <td>0.073</td>\n",
       "      <td>9.0</td>\n",
       "      <td>18.0</td>\n",
       "      <td>0.9968</td>\n",
       "      <td>3.36</td>\n",
       "      <td>0.57</td>\n",
       "      <td>9.5</td>\n",
       "      <td>1</td>\n",
       "    </tr>\n",
       "    <tr>\n",
       "      <th>9</th>\n",
       "      <td>7.5</td>\n",
       "      <td>0.50</td>\n",
       "      <td>0.36</td>\n",
       "      <td>6.1</td>\n",
       "      <td>0.071</td>\n",
       "      <td>17.0</td>\n",
       "      <td>102.0</td>\n",
       "      <td>0.9978</td>\n",
       "      <td>3.35</td>\n",
       "      <td>0.80</td>\n",
       "      <td>10.5</td>\n",
       "      <td>0</td>\n",
       "    </tr>\n",
       "  </tbody>\n",
       "</table>\n",
       "</div>"
      ],
      "text/plain": [
       "   fixed acidity  volatile acidity  citric acid  residual sugar  chlorides  \\\n",
       "0            7.4              0.70         0.00             1.9      0.076   \n",
       "1            7.8              0.88         0.00             2.6      0.098   \n",
       "2            7.8              0.76         0.04             2.3      0.092   \n",
       "3           11.2              0.28         0.56             1.9      0.075   \n",
       "4            7.4              0.70         0.00             1.9      0.076   \n",
       "5            7.4              0.66         0.00             1.8      0.075   \n",
       "6            7.9              0.60         0.06             1.6      0.069   \n",
       "7            7.3              0.65         0.00             1.2      0.065   \n",
       "8            7.8              0.58         0.02             2.0      0.073   \n",
       "9            7.5              0.50         0.36             6.1      0.071   \n",
       "\n",
       "   free sulfur dioxide  total sulfur dioxide  density    pH  sulphates  \\\n",
       "0                 11.0                  34.0   0.9978  3.51       0.56   \n",
       "1                 25.0                  67.0   0.9968  3.20       0.68   \n",
       "2                 15.0                  54.0   0.9970  3.26       0.65   \n",
       "3                 17.0                  60.0   0.9980  3.16       0.58   \n",
       "4                 11.0                  34.0   0.9978  3.51       0.56   \n",
       "5                 13.0                  40.0   0.9978  3.51       0.56   \n",
       "6                 15.0                  59.0   0.9964  3.30       0.46   \n",
       "7                 15.0                  21.0   0.9946  3.39       0.47   \n",
       "8                  9.0                  18.0   0.9968  3.36       0.57   \n",
       "9                 17.0                 102.0   0.9978  3.35       0.80   \n",
       "\n",
       "   alcohol quality  \n",
       "0      9.4       0  \n",
       "1      9.8       0  \n",
       "2      9.8       0  \n",
       "3      9.8       0  \n",
       "4      9.4       0  \n",
       "5      9.4       0  \n",
       "6      9.4       0  \n",
       "7     10.0       1  \n",
       "8      9.5       1  \n",
       "9     10.5       0  "
      ]
     },
     "execution_count": 85,
     "metadata": {},
     "output_type": "execute_result"
    }
   ],
   "source": [
    "Wine['quality'] = Wine['quality'].map({'bad' : 0, 'good' : 1})\n",
    "Wine.head(10)"
   ]
  },
  {
   "cell_type": "code",
   "execution_count": 86,
   "id": "97b6fea9",
   "metadata": {},
   "outputs": [],
   "source": [
    "#Let's visualise our new data !\n"
   ]
  },
  {
   "cell_type": "code",
   "execution_count": 87,
   "id": "8d29ed5e",
   "metadata": {},
   "outputs": [
    {
     "name": "stdout",
     "output_type": "stream",
     "text": [
      "0    1382\n",
      "1     217\n",
      "Name: quality, dtype: int64\n"
     ]
    },
    {
     "name": "stderr",
     "output_type": "stream",
     "text": [
      "C:\\Users\\Homa\\anaconda3\\lib\\site-packages\\seaborn\\_decorators.py:36: FutureWarning: Pass the following variable as a keyword arg: x. From version 0.12, the only valid positional argument will be `data`, and passing other arguments without an explicit keyword will result in an error or misinterpretation.\n",
      "  warnings.warn(\n"
     ]
    },
    {
     "data": {
      "image/png": "[encoded data removed]",
      "text/plain": [
       "<Figure size 1080x360 with 2 Axes>"
      ]
     },
     "metadata": {},
     "output_type": "display_data"
    }
   ],
   "source": [
    "print(Wine['quality'].value_counts())\n",
    "fig, ax = plt.subplots(ncols=2, nrows=1, figsize=(18, 5))\n",
    "ax = ax.flatten()\n",
    "Wine['quality'].value_counts().plot(x=0, y=1, kind='pie', figsize=(15,5), ax=ax[0])\n",
    "sns.countplot(Wine['quality'], ax=ax[1])\n",
    "plt.show()"
   ]
  },
  {
   "cell_type": "code",
   "execution_count": 88,
   "id": "f5324dd3",
   "metadata": {},
   "outputs": [],
   "source": [
    "#Train test split\n",
    " "
   ]
  },
  {
   "cell_type": "code",
   "execution_count": 89,
   "id": "05239667",
   "metadata": {},
   "outputs": [],
   "source": [
    "X = Wine.drop('quality', axis = 1)\n",
    "y = Wine['quality']\n",
    " \n",
    "#Creating training and test set\n",
    "X_train, X_test, y_train, y_test = train_test_split(X, y, test_size=0.20, random_state=42)"
   ]
  },
  {
   "cell_type": "code",
   "execution_count": 90,
   "id": "26f7f45d",
   "metadata": {},
   "outputs": [],
   "source": [
    "#Feature scaling, but not scaling dependent variable as it has categorical data\n",
    "from sklearn.preprocessing import StandardScaler\n",
    "sc = StandardScaler()\n",
    "X_train = sc.fit_transform(X_train)\n",
    "X_test = sc.fit_transform(X_test)"
   ]
  },
  {
   "cell_type": "code",
   "execution_count": 91,
   "id": "7c86cacd",
   "metadata": {},
   "outputs": [],
   "source": [
    "#Our training and testing data is ready now to perform machine learning algorithm"
   ]
  },
  {
   "cell_type": "code",
   "execution_count": 92,
   "id": "53fb3dde",
   "metadata": {},
   "outputs": [],
   "source": [
    "#Logistic Regression"
   ]
  },
  {
   "cell_type": "code",
   "execution_count": 93,
   "id": "57588c4b",
   "metadata": {},
   "outputs": [
    {
     "name": "stdout",
     "output_type": "stream",
     "text": [
      "     Actual  Predicted\n",
      "76        0          0\n",
      "382       0          0\n",
      "1556      0          0\n",
      "1079      1          0\n",
      "371       0          0\n",
      "\n",
      "Confussion matrix:\n",
      "[[268   5]\n",
      " [ 35  12]]\n"
     ]
    }
   ],
   "source": [
    "logreg = LogisticRegression(solver='lbfgs', random_state=42)\n",
    "logreg.fit(X_train, y_train)\n",
    "pred_logreg = logreg.predict(X_test)\n",
    "Y_compare_logisticRegression = pd.DataFrame({'Actual' : y_test, 'Predicted' : pred_logreg})\n",
    "print(Y_compare_logisticRegression.sample(5))\n",
    "print('\\nConfussion matrix:')\n",
    "print(confusion_matrix(y_test, pred_logreg))"
   ]
  },
  {
   "cell_type": "code",
   "execution_count": 94,
   "id": "3443e7a3",
   "metadata": {},
   "outputs": [
    {
     "data": {
      "image/png": "[encoded data removed]",
      "text/plain": [
       "<Figure size 360x360 with 2 Axes>"
      ]
     },
     "metadata": {},
     "output_type": "display_data"
    }
   ],
   "source": [
    "import itertools\n",
    "def plot_confusion_matrix(cm, classes, normalize = False,\n",
    "                          title='Confusion matrix',\n",
    "                          cmap=plt.cm.Greens): # can change color \n",
    "    plt.figure(figsize = (5, 5))\n",
    "    plt.imshow(cm, interpolation='nearest', cmap=cmap)\n",
    "    plt.title(title, size = 24)\n",
    "    plt.colorbar(aspect=4)\n",
    "    tick_marks = np.arange(len(classes))\n",
    "    plt.xticks(tick_marks, classes, rotation=45, size = 14)\n",
    "    plt.yticks(tick_marks, classes, size = 14)\n",
    "    fmt = '.2f' if normalize else 'd'\n",
    "    thresh = cm.max() / 2.\n",
    "    # Label the plot\n",
    "    for i, j in itertools.product(range(cm.shape[0]),range(cm.shape[1])):\n",
    "             plt.text(j, i, format(cm[i, j], fmt), \n",
    "             fontsize = 20,\n",
    "             horizontalalignment=\"center\",\n",
    "             color=\"white\" if cm[i, j] > thresh else \"black\")\n",
    "    \n",
    "    plt.tight_layout()\n",
    "    plt.ylabel('True label', size = 18)\n",
    "    plt.xlabel('Predicted label', size = 18)\n",
    "\n",
    "# Let's plot it out\n",
    "cm = confusion_matrix(y_test, pred_logreg)\n",
    "plot_confusion_matrix(cm, classes = ['0 - Bad', '1 - Good'],\n",
    "                      title = 'Confusion Matrix')"
   ]
  },
  {
   "cell_type": "code",
   "execution_count": 95,
   "id": "ad362d20",
   "metadata": {},
   "outputs": [],
   "source": [
    "#K-Nearest Neighbour Classification"
   ]
  },
  {
   "cell_type": "code",
   "execution_count": 96,
   "id": "61b38891",
   "metadata": {},
   "outputs": [
    {
     "name": "stdout",
     "output_type": "stream",
     "text": [
      "     Actual  Predicted\n",
      "803       0          0\n",
      "124       0          0\n",
      "350       0          0\n",
      "682       0          0\n",
      "1326      0          0\n",
      "\n",
      "Confussion matrix:\n",
      "[[266   7]\n",
      " [ 34  13]]\n"
     ]
    }
   ],
   "source": [
    "knn = KNN(n_neighbors=2, metric='minkowski', p=2,)\n",
    "knn.fit(X_train, y_train)\n",
    "pred_knn = knn.predict(X_test)\n",
    "Y_compare_knn = pd.DataFrame({'Actual' : y_test, 'Predicted' : pred_knn})\n",
    "print(Y_compare_knn.head())\n",
    "print('\\nConfussion matrix:')\n",
    "print(confusion_matrix(y_test, pred_knn))"
   ]
  },
  {
   "cell_type": "code",
   "execution_count": 97,
   "id": "f92c2416",
   "metadata": {},
   "outputs": [
    {
     "data": {
      "image/png": "[encoded data removed]",
      "text/plain": [
       "<Figure size 360x360 with 2 Axes>"
      ]
     },
     "metadata": {},
     "output_type": "display_data"
    }
   ],
   "source": [
    "cm = confusion_matrix(y_test, pred_knn)\n",
    "plot_confusion_matrix(cm, classes = ['0 - Bad', '1 - Good'],\n",
    "                      title = 'Confusion Matrix')"
   ]
  },
  {
   "cell_type": "code",
   "execution_count": 98,
   "id": "a2011968",
   "metadata": {},
   "outputs": [],
   "source": [
    "#Random Forrest Classification"
   ]
  },
  {
   "cell_type": "code",
   "execution_count": 99,
   "id": "b20fe5f4",
   "metadata": {},
   "outputs": [
    {
     "name": "stdout",
     "output_type": "stream",
     "text": [
      "     Actual  Predicted\n",
      "803       0          0\n",
      "124       0          0\n",
      "350       0          0\n",
      "682       0          0\n",
      "1326      0          0\n",
      "\n",
      "Confussion matrix:\n",
      "[[264   9]\n",
      " [ 25  22]]\n"
     ]
    }
   ],
   "source": [
    "rfc = RandomForestClassifier(n_estimators=25, criterion='gini', random_state=0,)\n",
    "rfc.fit(X_train, y_train)\n",
    "pred_rf = rfc.predict(X_test)\n",
    "Y_compare_rfc = pd.DataFrame({'Actual' : y_test, 'Predicted' : pred_rf})\n",
    "print(Y_compare_rfc.head())\n",
    "print('\\nConfussion matrix:')\n",
    "print(confusion_matrix(y_test, pred_rf))"
   ]
  },
  {
   "cell_type": "code",
   "execution_count": 100,
   "id": "63a9f151",
   "metadata": {},
   "outputs": [
    {
     "data": {
      "image/png": "[encoded data removed]",
      "text/plain": [
       "<Figure size 360x360 with 2 Axes>"
      ]
     },
     "metadata": {},
     "output_type": "display_data"
    }
   ],
   "source": [
    "cm = confusion_matrix(y_test, pred_rf)\n",
    "plot_confusion_matrix(cm, classes = ['0 - Bad', '1 - Good'],\n",
    "                      title = 'Confusion Matrix')"
   ]
  },
  {
   "cell_type": "code",
   "execution_count": 101,
   "id": "292c745c",
   "metadata": {},
   "outputs": [],
   "source": [
    "#Checking accuracy of different model\n"
   ]
  },
  {
   "cell_type": "code",
   "execution_count": 102,
   "id": "65e6da80",
   "metadata": {},
   "outputs": [
    {
     "name": "stdout",
     "output_type": "stream",
     "text": [
      "Accuracy of Logistic Regression Classification model is 0.89\n",
      "Accuracy of K-Nearest Neighbour Classification model is 0.89\n",
      "Accuracy of Random Forrest Classification model is 0.91\n"
     ]
    }
   ],
   "source": [
    "#K-fold cross validation\n",
    "modelNames = ['Logistic Regression', 'K-Nearest Neighbour', 'Random Forrest']\n",
    "modelClassifiers = [logreg, knn,rfc]\n",
    "models = pd.DataFrame({'modelNames' : modelNames, 'modelClassifiers' : modelClassifiers})\n",
    "counter=0\n",
    "score=[]\n",
    "for i in models['modelClassifiers']:\n",
    "  accuracy = cross_val_score(i, X_train, y_train, scoring='accuracy', cv=10)\n",
    "  print('Accuracy of %s Classification model is %.2f' %(models.iloc[counter,0],accuracy.mean()))\n",
    "  score.append(accuracy.mean())\n",
    "  counter+=1"
   ]
  },
  {
   "cell_type": "code",
   "execution_count": 103,
   "id": "cdd8f137",
   "metadata": {},
   "outputs": [
    {
     "data": {
      "image/png": "[encoded data removed]",
      "text/plain": [
       "<Figure size 1080x360 with 1 Axes>"
      ]
     },
     "metadata": {},
     "output_type": "display_data"
    }
   ],
   "source": [
    "#Plotting the accuracies of different models\n",
    "pd.DataFrame({'Model Name' : modelNames,'Score' : score}).sort_values(by='Score', ascending=True).plot(x=0, y=1, kind='bar', figsize=(15,5), title='Comparison of accuracies of differnt classification models')\n",
    "plt.show()"
   ]
  },
  {
   "cell_type": "code",
   "execution_count": 104,
   "id": "2533db23",
   "metadata": {},
   "outputs": [
    {
     "name": "stdout",
     "output_type": "stream",
     "text": [
      "******************* End of classification********************\n"
     ]
    }
   ],
   "source": [
    "print(\"******************* End of classification********************\")"
   ]
  }
 ],
 "metadata": {
  "kernelspec": {
   "display_name": "Python 3 (ipykernel)",
   "language": "python",
   "name": "python3"
  },
  "language_info": {
   "codemirror_mode": {
    "name": "ipython",
    "version": 3
   },
   "file_extension": ".py",
   "mimetype": "text/x-python",
   "name": "python",
   "nbconvert_exporter": "python",
   "pygments_lexer": "ipython3",
   "version": "3.9.12"
  }
 },
 "nbformat": 4,
 "nbformat_minor": 5
}
